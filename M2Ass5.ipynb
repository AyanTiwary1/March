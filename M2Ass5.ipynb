{
 "cells": [
  {
   "cell_type": "markdown",
   "id": "56c49955-7637-43de-af4d-fbec91971caa",
   "metadata": {},
   "source": [
    "# Assignment "
   ]
  },
  {
   "cell_type": "markdown",
   "id": "7ed10a45-d7e7-4ef8-8a44-da91ef715fc4",
   "metadata": {},
   "source": [
    "# Q1"
   ]
  },
  {
   "cell_type": "markdown",
   "id": "60f72815-cf29-4d24-9b81-f829d33195d6",
   "metadata": {},
   "source": [
    "To create a Bokeh plot using Python code, you can follow these steps:\n",
    "\n",
    "Install the Bokeh library by running the following command in your terminal or command prompt:\n",
    "\n",
    "pip install bokeh\n",
    "\n",
    "Import the necessary modules from the Bokeh library:\n"
   ]
  },
  {
   "cell_type": "markdown",
   "id": "f9e7727a-d8b6-47f6-85c6-1cb63464821a",
   "metadata": {
    "tags": []
   },
   "source": [
    "from bokeh.plotting import figure, output_file, show"
   ]
  },
  {
   "cell_type": "code",
   "execution_count": null,
   "id": "be842233-daf0-4986-87e4-26bbe653c3dc",
   "metadata": {},
   "outputs": [],
   "source": [
    "x = [1, 2, 3, 4, 5]\n",
    "y = [6, 7, 2, 4, 5]\n",
    "output_file(\"scatter.html\")\n",
    "p = figure(title=\"Scatter Plot\", x_axis_label='X-axis', y_axis_label='Y-axis')\n",
    "p.circle(x, y, size=10, color='red')\n",
    "show(p)"
   ]
  },
  {
   "cell_type": "markdown",
   "id": "4d5dba84-27de-4531-874f-af9ee700bed2",
   "metadata": {},
   "source": [
    "# Q2"
   ]
  },
  {
   "cell_type": "markdown",
   "id": "117d3320-660b-4709-bcfb-097c5ed20b50",
   "metadata": {},
   "source": [
    "In Bokeh, glyphs are visual representations of data points such as circles, squares, triangles, lines, or patches that are added to a plot. They are used to create data visualizations and make it easy to explore and analyze complex data.\n",
    "\n",
    "To add glyphs to a Bokeh plot, you first need to create a figure object using the figure() function from the bokeh.plotting module. Then, you can add glyphs to the figure using glyph methods such as circle(), square(), line(), or patch().\n",
    "\n",
    "Here's an example of how to add glyphs to a Bokeh plot using the circle() method:"
   ]
  },
  {
   "cell_type": "code",
   "execution_count": null,
   "id": "9a269068-c220-4f17-96db-bd1d99792b9f",
   "metadata": {},
   "outputs": [],
   "source": [
    "# Define data\n",
    "x = [1, 2, 3, 4, 5]\n",
    "y = [6, 7, 2, 4, 5]\n",
    "\n",
    "# Set output file\n",
    "output_file(\"scatter.html\")\n",
    "\n",
    "# Create a new Bokeh figure\n",
    "p = figure(title=\"Scatter Plot\", x_axis_label='X-axis', y_axis_label='Y-axis')\n",
    "\n",
    "# Add glyphs to the figure object\n",
    "p.circle(x, y, size=10, color='red', alpha=0.5)\n",
    "\n",
    "# Show the Bokeh plot\n",
    "show(p)"
   ]
  },
  {
   "cell_type": "markdown",
   "id": "f75ac33a-8e31-4ff5-b4a1-1e6945ea83d5",
   "metadata": {},
   "source": [
    "# Q3"
   ]
  },
  {
   "cell_type": "markdown",
   "id": "8cfcfc69-70a4-4647-88bb-51fd62c0abf0",
   "metadata": {},
   "source": [
    "You can customize the appearance of a Bokeh plot using various methods and properties. Here's a summary of some of the most common ways to customize the appearance of a Bokeh plot:\n",
    "\n",
    "Customize the title: You can set the title of a Bokeh plot using the title property of the figure object. For example:"
   ]
  },
  {
   "cell_type": "code",
   "execution_count": null,
   "id": "d45b4cc4-c813-4e1f-81d9-4bff46d273b2",
   "metadata": {},
   "outputs": [],
   "source": [
    "p = figure(title=\"My Plot\")"
   ]
  },
  {
   "cell_type": "markdown",
   "id": "f24b1e48-ff5a-4e0a-8442-e0651395ce9d",
   "metadata": {},
   "source": [
    "Customize the axes: You can customize the x-axis and y-axis labels, tick marks, and other properties using the xaxis and yaxis properties of the figure object"
   ]
  },
  {
   "cell_type": "code",
   "execution_count": null,
   "id": "3a189a39-1732-42d3-9626-6f03a912c157",
   "metadata": {},
   "outputs": [],
   "source": [
    "p.xaxis.axis_label = \"X-axis\"\n",
    "p.yaxis.axis_label = \"Y-axis\""
   ]
  },
  {
   "cell_type": "markdown",
   "id": "23097f9d-28ec-4323-bb0f-d3788d0b96b1",
   "metadata": {},
   "source": [
    "Customize the legend: You can add a legend to a Bokeh plot using the legend property of a glyph method. For example:"
   ]
  },
  {
   "cell_type": "code",
   "execution_count": null,
   "id": "80ec483c-1fd7-4693-8287-476a26803082",
   "metadata": {},
   "outputs": [],
   "source": [
    "p.circle(x, y, legend=\"Data\", color=\"red\")\n",
    "p.line(x, y, legend=\"Line\", color=\"blue\")\n",
    "p.legend.location = \"top_left\"\n",
    "p.legend.title = \"Legend Title\"\n"
   ]
  },
  {
   "cell_type": "markdown",
   "id": "bd850ddd-43df-47f5-830e-ffecfb267fb5",
   "metadata": {},
   "source": [
    "Customize the background: You can customize the background color and other properties of a Bokeh plot using the background_fill_color and border_fill_color properties of the figure object. For example:"
   ]
  },
  {
   "cell_type": "code",
   "execution_count": null,
   "id": "04ba9de1-aff1-471e-9816-73fb51b61a32",
   "metadata": {},
   "outputs": [],
   "source": [
    "p.background_fill_color = \"beige\"\n",
    "p.border_fill_color = \"navy\""
   ]
  },
  {
   "cell_type": "markdown",
   "id": "2b54f2a2-cad6-4bdb-a26d-656a30e0d6be",
   "metadata": {},
   "source": [
    "# Q4"
   ]
  },
  {
   "cell_type": "markdown",
   "id": "e640166a-a84b-4efb-be5a-58a53ead9f0c",
   "metadata": {},
   "source": [
    "A Bokeh server is a way to create and serve interactive Bokeh plots that can be updated in real-time. The Bokeh server allows you to create web applications that respond to user interactions such as mouse clicks, key presses, or other events, and update the plot data dynamically without the need to reload the page.\n",
    "\n",
    "To use the Bokeh server, you need to create a Python script that defines the plot and the application logic. The script should define a function that creates the plot and a function that defines the update logic. The update function will be called whenever the plot data needs to be updated, for example, when the user interacts with the plot.\n",
    "\n",
    "Here's an example of how to use the Bokeh server to create an interactive plot that updates in real-time:"
   ]
  },
  {
   "cell_type": "code",
   "execution_count": null,
   "id": "9e5b5a01-38da-4465-9678-81598089a40a",
   "metadata": {},
   "outputs": [],
   "source": [
    "from bokeh.plotting import figure, curdoc\n",
    "from bokeh.models import ColumnDataSource\n",
    "import numpy as np\n",
    "\n",
    "# Define the initial plot data\n",
    "x = np.arange(0, 10, 0.1)\n",
    "y = np.sin(x)\n",
    "source = ColumnDataSource(data={'x': x, 'y': y})\n",
    "\n",
    "# Define the plot function\n",
    "def create_plot():\n",
    "    p = figure(title=\"Real-time plot\")\n",
    "    p.line('x', 'y', source=source, line_width=2)\n",
    "    return p\n",
    "\n",
    "# Define the update function\n",
    "def update():\n",
    "    y = np.sin(x + curdoc().elapsed_time)\n",
    "    source.data = {'x': x, 'y': y}\n",
    "\n",
    "# Create the plot and add it to the current document\n",
    "plot = create_plot()\n",
    "curdoc().add_root(plot)\n",
    "\n",
    "# Add the update callback to the document\n",
    "curdoc().add_periodic_callback(update, 50)\n"
   ]
  },
  {
   "cell_type": "markdown",
   "id": "1c73b592-09dc-4ebe-b062-a7210cff95e8",
   "metadata": {},
   "source": [
    "# Q5"
   ]
  },
  {
   "cell_type": "markdown",
   "id": "ece1c1e0-38a0-4a30-93a8-6f6b1f44064a",
   "metadata": {},
   "source": [
    "First, install the required packages:\n",
    "\n",
    "pip install flask bokeh"
   ]
  },
  {
   "cell_type": "code",
   "execution_count": null,
   "id": "1f30cc33-7329-4cab-975e-ff187759ccb7",
   "metadata": {},
   "outputs": [],
   "source": [
    "Create a Flask app and import the necessary modules:\n",
    "from flask import Flask, render_template\n",
    "from bokeh.embed import server_document\n",
    "from bokeh.server.server import Server\n",
    "from bokeh.application import Application\n",
    "from bokeh.application.handlers.function import FunctionHandler\n",
    "from my_bokeh_app import create_bokeh_app"
   ]
  },
  {
   "cell_type": "markdown",
   "id": "40629139-9281-4a84-8c02-56a1ce1336e7",
   "metadata": {},
   "source": [
    "Create a Bokeh app and define a function to return the plot:"
   ]
  },
  {
   "cell_type": "code",
   "execution_count": null,
   "id": "a778bff7-3c17-4fe4-b959-da1af142b018",
   "metadata": {},
   "outputs": [],
   "source": [
    "def bokeh_app(doc):\n",
    "    plot = create_bokeh_app() # Create your Bokeh plot here\n",
    "    doc.add_root(plot)"
   ]
  },
  {
   "cell_type": "markdown",
   "id": "57e3ff43-0755-4a36-9912-8293454daf90",
   "metadata": {},
   "source": [
    "Create a Flask route and render the template with the embedded plot:"
   ]
  },
  {
   "cell_type": "code",
   "execution_count": null,
   "id": "4f7dd31a-9b04-454f-9198-5592b95c508b",
   "metadata": {},
   "outputs": [],
   "source": [
    "app = Flask(__name__)\n",
    "\n",
    "@app.route(\"/\")\n",
    "def index():\n",
    "    with Server({\"/\": Application(FunctionHandler(bokeh_app))}) as server:\n",
    "        script = server_document(\"http://localhost:5006/\")\n",
    "        return render_template(\"index.html\", script=script)\n",
    "\n",
    "if __name__ == \"__main__\":\n",
    "    app.run()\n"
   ]
  }
 ],
 "metadata": {
  "kernelspec": {
   "display_name": "Python 3 (ipykernel)",
   "language": "python",
   "name": "python3"
  },
  "language_info": {
   "codemirror_mode": {
    "name": "ipython",
    "version": 3
   },
   "file_extension": ".py",
   "mimetype": "text/x-python",
   "name": "python",
   "nbconvert_exporter": "python",
   "pygments_lexer": "ipython3",
   "version": "3.11.2"
  }
 },
 "nbformat": 4,
 "nbformat_minor": 5
}

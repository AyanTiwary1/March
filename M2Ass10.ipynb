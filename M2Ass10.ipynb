{
 "cells": [
  {
   "cell_type": "markdown",
   "id": "3ab69a50-4782-4056-9073-c9889c579543",
   "metadata": {},
   "source": [
    "# Assignment"
   ]
  },
  {
   "cell_type": "markdown",
   "id": "384fbdf1-cc3e-438e-abc7-38c82bcbf08c",
   "metadata": {},
   "source": [
    "# Q1"
   ]
  },
  {
   "cell_type": "markdown",
   "id": "ef6392e9-ed46-4349-84f7-d107dd75b44a",
   "metadata": {},
   "source": [
    "Estimation statistics is a branch of statistics that deals with the process of estimating the value of a population parameter based on a sample statistic. It involves using sample data to make inferences about the population from which the sample was drawn.\n",
    "\n",
    "Point estimate is a single numerical value that is used to estimate an unknown population parameter based on the sample data. For example, the sample mean is a point estimate of the population mean. Point estimates are often used when only one estimate is needed, and the precision of the estimate is not a primary concern.\n",
    "\n",
    "Interval estimate, on the other hand, is a range of values that is used to estimate an unknown population parameter. The range is constructed using the sample data and is called a confidence interval. The confidence interval provides a range of values within which the population parameter is likely to lie. The level of confidence, typically expressed as a percentage, indicates how confident we are that the true population parameter lies within the given interval."
   ]
  },
  {
   "cell_type": "markdown",
   "id": "0bd8521c-0746-429d-b030-3a8bf8c7a10c",
   "metadata": {},
   "source": [
    "# Q2"
   ]
  },
  {
   "cell_type": "code",
   "execution_count": 1,
   "id": "441aac83-0caa-41e1-bde9-8bd738cacf0a",
   "metadata": {
    "tags": []
   },
   "outputs": [],
   "source": [
    "import math\n",
    "\n",
    "def estimate_population_mean(sample_mean, sample_std_dev, sample_size):\n",
    "    # Calculate the standard error of the mean\n",
    "    std_err = sample_std_dev / math.sqrt(sample_size)\n",
    "    \n",
    "    # Calculate the margin of error using a 95% confidence level\n",
    "    margin_error = 1.96 * std_err\n",
    "    \n",
    "    # Calculate the lower and upper bounds of the confidence interval\n",
    "    lower_bound = sample_mean - margin_error\n",
    "    upper_bound = sample_mean + margin_error\n",
    "    \n",
    "    # Return the estimate of the population mean\n",
    "    return (lower_bound + upper_bound) / 2\n",
    "\n",
    "population_mean_estimate = estimate_population_mean(sample_mean, sample_std_dev, sample_size)\n",
    "print(\"Estimated population mean:\", population_mean_estimate)\n"
   ]
  },
  {
   "cell_type": "code",
   "execution_count": 3,
   "id": "9e582819-6a5a-4a61-8d4a-473661ec3f7b",
   "metadata": {
    "tags": []
   },
   "outputs": [
    {
     "data": {
      "text/plain": [
       "50.0"
      ]
     },
     "execution_count": 3,
     "metadata": {},
     "output_type": "execute_result"
    }
   ],
   "source": [
    "estimate_population_mean(50,10,100)"
   ]
  },
  {
   "cell_type": "markdown",
   "id": "f85979bf-d853-403f-ade4-794f9d5b648f",
   "metadata": {},
   "source": [
    "# Q3"
   ]
  },
  {
   "cell_type": "markdown",
   "id": "46e3a1ce-bc65-4144-8a7d-155e996eb740",
   "metadata": {},
   "source": [
    "Hypothesis testing is a statistical method used to determine whether a given hypothesis about a population parameter is true or false. In hypothesis testing, we start with a null hypothesis, which is a statement that the population parameter is equal to a certain value. We then collect sample data and calculate a test statistic, which is used to assess the likelihood of observing the sample data if the null hypothesis is true. Based on this likelihood, we either reject or fail to reject the null hypothesis.\n",
    "\n",
    "Hypothesis testing is used to make inferences about a population based on sample data. It is an important tool in scientific research, as it allows researchers to test their theories and make conclusions about the real-world phenomena they are studying. Hypothesis testing is used in a wide range of fields, including biology, psychology, economics, and engineering"
   ]
  },
  {
   "cell_type": "markdown",
   "id": "a396137b-5039-457d-bd05-158e93f2c62f",
   "metadata": {},
   "source": [
    "# Q4"
   ]
  },
  {
   "cell_type": "markdown",
   "id": "bd2f9204-49e4-4bfb-9303-b6498757e2fc",
   "metadata": {},
   "source": [
    "Null hypothesis: The average weight of male college students is equal to or less than the average weight of female college students.\n",
    "\n",
    "Alternative hypothesis: The average weight of male college students is greater than the average weight of female college students."
   ]
  },
  {
   "cell_type": "markdown",
   "id": "441563f2-0ea3-4ea0-ae3b-95ba67432a43",
   "metadata": {},
   "source": [
    "# Q5"
   ]
  },
  {
   "cell_type": "code",
   "execution_count": 11,
   "id": "7f50df31-2431-4c38-a096-edc274fabe24",
   "metadata": {
    "tags": []
   },
   "outputs": [
    {
     "name": "stdout",
     "output_type": "stream",
     "text": [
      "Sample mean 1: 50.49459465178218\n",
      "Sample mean 2: 43.49801245901711\n",
      "Sample standard deviation 1: 10.20668411526356\n",
      "Sample standard deviation 2: 12.077676222061067\n",
      "Standard error of the difference between means: 1.5812863863124627\n",
      "T-statistic: 4.424614195965475\n",
      "Degrees of freedom: 198\n",
      "P-value: 1.5936549362686843e-05\n"
     ]
    }
   ],
   "source": [
    "import numpy as np\n",
    "from scipy import stats\n",
    "\n",
    "# Sample data from two populations\n",
    "pop1 = np.random.normal(50, 10, size=100)\n",
    "pop2 = np.random.normal(45, 12, size=100)\n",
    "\n",
    "# Calculate the sample means and standard deviations\n",
    "sample_mean1 = np.mean(pop1)\n",
    "sample_mean2 = np.mean(pop2)\n",
    "sample_std1 = np.std(pop1, ddof=1)\n",
    "sample_std2 = np.std(pop2, ddof=1)\n",
    "\n",
    "# Calculate the standard error of the difference between means\n",
    "std_error = np.sqrt((sample_std1**2 / len(pop1)) + (sample_std2**2 / len(pop2)))\n",
    "\n",
    "# Calculate the t-statistic\n",
    "t_stat = (sample_mean1 - sample_mean2) / std_error\n",
    "\n",
    "# Calculate the degrees of freedom\n",
    "df = len(pop1) + len(pop2) - 2\n",
    "\n",
    "# Calculate the p-value using a two-tailed t-test\n",
    "p_value = stats.t.sf(np.abs(t_stat), df) * 2\n",
    "\n",
    "# Print the results\n",
    "print(\"Sample mean 1:\", sample_mean1)\n",
    "print(\"Sample mean 2:\", sample_mean2)\n",
    "print(\"Sample standard deviation 1:\", sample_std1)\n",
    "print(\"Sample standard deviation 2:\", sample_std2)\n",
    "print(\"Standard error of the difference between means:\", std_error)\n",
    "print(\"T-statistic:\", t_stat)\n",
    "print(\"Degrees of freedom:\", df)\n",
    "print(\"P-value:\", p_value)\n"
   ]
  },
  {
   "cell_type": "markdown",
   "id": "91958e33-8e2d-43cc-b751-e4fed7a708a7",
   "metadata": {},
   "source": [
    "# Q6"
   ]
  },
  {
   "cell_type": "markdown",
   "id": "23863db1-bb8e-4821-8b6f-6970a83db11a",
   "metadata": {
    "tags": []
   },
   "source": [
    "In statistical hypothesis testing, a null hypothesis is a statement that assumes there is no significant difference between two or more populations, or no significant relationship between variables in a population. An alternative hypothesis is a statement that contradicts the null hypothesis, by asserting that there is a significant difference or relationship.\n",
    "\n",
    "Here are some examples of null and alternative hypotheses:\n",
    "\n",
    "Example 1: A company wants to test whether a new website design has increased the average time users spend on their website.\n",
    "\n",
    "Null hypothesis: The new website design has not increased the average time users spend on the company's website.\n",
    "\n",
    "Alternative hypothesis: The new website design has increased the average time users spend on the company's website.\n",
    "\n",
    "Example 2: A researcher wants to test whether a new drug is effective in reducing blood pressure.\n",
    "\n",
    "Null hypothesis: The new drug is not effective in reducing blood pressure.\n",
    "\n",
    "Alternative hypothesis: The new drug is effective in reducing blood pressure.m"
   ]
  },
  {
   "cell_type": "markdown",
   "id": "6c3dd0d0-fab4-4c3b-8c19-88e81c93ab89",
   "metadata": {},
   "source": [
    "# Q7"
   ]
  },
  {
   "cell_type": "markdown",
   "id": "840aa63d-8566-4913-b7f2-b4f3e76a80ff",
   "metadata": {},
   "source": [
    "State the research question and the null and alternative hypotheses.\n",
    "\n",
    "Determine the appropriate statistical test to use based on the research question and the type of data.\n",
    "\n",
    "Collect sample data from the populations of interest.\n",
    "\n",
    "Calculate the appropriate test statistic based on the sample data and the null hypothesis.\n",
    "\n",
    "Determine the p-value for the test statistic, which represents the probability of observing a test statistic as extreme as or more extreme than the observed one, assuming the null hypothesis is true.\n",
    "\n",
    "Compare the p-value to the significance level (also called alpha), which is the pre-determined threshold for rejecting the null hypothesis. If the p-value is less than or equal to the significance level, the null hypothesis is rejected in favor of the alternative hypothesis. If the p-value is greater than the significance level, the null hypothesis cannot be rejected.\n",
    "\n",
    "Interpret the results of the hypothesis test and draw conclusions based on the evidence from the sample data.\n",
    "\n",
    "Consider the limitations and assumptions of the hypothesis test, and evaluate the implications of the results for the research question and broader population(s) of interest."
   ]
  },
  {
   "cell_type": "markdown",
   "id": "e7f70af1-3ba7-4031-a7c3-9c64952e2d15",
   "metadata": {},
   "source": [
    "# Q8"
   ]
  },
  {
   "cell_type": "markdown",
   "id": "8a380a40-232e-4246-a588-e903ae70bdbb",
   "metadata": {},
   "source": [
    "In hypothesis testing, the p-value is the probability of obtaining a test statistic as extreme as or more extreme than the observed one, assuming the null hypothesis is true. The p-value is a key concept in hypothesis testing because it provides a measure of the strength of evidence against the null hypothesis.\n",
    "\n",
    "If the p-value is small (typically less than or equal to the pre-determined significance level), it suggests that the observed data is unlikely to have occurred by chance if the null hypothesis is true. This leads to the rejection of the null hypothesis in favor of the alternative hypothesis. On the other hand, if the p-value is large, it suggests that the observed data is reasonably likely to have occurred by chance if the null hypothesis is true, and there is insufficient evidence to reject the null hypothesis."
   ]
  },
  {
   "cell_type": "markdown",
   "id": "94cce052-ef20-436a-bd21-df23f29b846c",
   "metadata": {
    "tags": []
   },
   "source": [
    "# Q9"
   ]
  },
  {
   "cell_type": "code",
   "execution_count": null,
   "id": "744db56c-4eb2-4561-a660-c3304d1f930e",
   "metadata": {
    "tags": []
   },
   "outputs": [],
   "source": [
    "import numpy as np\n",
    "import matplotlib.pyplot as plt\n",
    "from scipy.stats import t\n",
    "\n",
    "# Generate t-distribution data\n",
    "df = 10\n",
    "x = np.linspace(t.ppf(0.01, df), t.ppf(0.99, df), 100)\n",
    "y = t.pdf(x, df)\n",
    "\n",
    "# Create plot\n",
    "fig, ax = plt.subplots()\n",
    "ax.plot(x, y, 'r-', lw=2, alpha=0.6, label='t-distribution (df=10)')\n",
    "\n",
    "ax.legend(loc='best', frameon=False)\n",
    "ax.set_xlabel('x')\n",
    "ax.set_ylabel('pdf(x)')\n",
    "ax.set_title('Student\\'s t-distribution plot')\n",
    "\n",
    "plt.show()\n"
   ]
  },
  {
   "cell_type": "markdown",
   "id": "0ab25031-aaa8-4f14-8b41-7fa3d3d7ef32",
   "metadata": {},
   "source": [
    "# Q10"
   ]
  },
  {
   "cell_type": "code",
   "execution_count": 10,
   "id": "f190123e-0858-41ee-a54e-b768832697f9",
   "metadata": {
    "tags": []
   },
   "outputs": [
    {
     "name": "stdout",
     "output_type": "stream",
     "text": [
      "Sample 1 mean: 10.253698514651791\n",
      "Sample 2 mean: 12.133848873820416\n",
      "Test statistic: -4.852235814927287\n",
      "p-value: 4.6048966068248664e-06\n"
     ]
    }
   ],
   "source": [
    "import numpy as np\n",
    "from scipy.stats import ttest_ind\n",
    "\n",
    "# Generate random samples\n",
    "sample1 = np.random.normal(loc=10, scale=2, size=50)\n",
    "sample2 = np.random.normal(loc=12, scale=2, size=50)\n",
    "\n",
    "# Calculate the two-sample t-test\n",
    "statistic, pvalue = ttest_ind(sample1, sample2)\n",
    "\n",
    "# Print results\n",
    "print(\"Sample 1 mean:\", np.mean(sample1))\n",
    "print(\"Sample 2 mean:\", np.mean(sample2))\n",
    "print(\"Test statistic:\", statistic)\n",
    "print(\"p-value:\", pvalue)\n"
   ]
  },
  {
   "cell_type": "markdown",
   "id": "39c6b68a-c679-46e5-abc3-27fc5d3c6a3a",
   "metadata": {},
   "source": [
    "# Q11"
   ]
  },
  {
   "cell_type": "markdown",
   "id": "0cf8f5e3-4d0c-47ef-b117-5eb6635bb5e2",
   "metadata": {},
   "source": [
    "Student's t-distribution is a probability distribution that is used to model the behavior of the sample means of small samples (n < 30) when the population standard deviation is unknown. It is a type of continuous probability distribution that is used in hypothesis testing, confidence interval estimation, and other statistical inference applications.\n",
    "\n",
    "The t-distribution is similar to the standard normal distribution but has heavier tails, which reflects the increased uncertainty that arises from estimating the population standard deviation from a small sample size. The shape of the t-distribution depends on the degrees of freedom, which is equal to n - 1 for a sample size of n.\n",
    "\n",
    "The t-distribution is typically used in situations where the population standard deviation is unknown and the sample size is small. This occurs in a variety of applications, such as medical studies, psychology, engineering, and social sciences, where researchers may not have access to a large sample size or the population standard deviation.\n",
    "\n",
    "The t-distribution is used to calculate confidence intervals and test hypotheses about the population mean. In particular, it is used in situations where the sample size is small and the population standard deviation is unknown. When the sample size is large (n ≥ 30), the t-distribution approaches the normal distribution, and the standard normal distribution can be used in place of the t-distribution."
   ]
  },
  {
   "cell_type": "markdown",
   "id": "9ec369b7-52e3-4774-b18c-309c44baa6f0",
   "metadata": {},
   "source": [
    "# Q12"
   ]
  },
  {
   "cell_type": "markdown",
   "id": "4774d09a-d435-4a89-a371-1287b4f8023a",
   "metadata": {},
   "source": [
    "The t-statistic is a measure of how many standard errors a sample mean is away from the null hypothesis mean. It is used in hypothesis testing to determine if there is a significant difference between two sample means.\n",
    "\n",
    "The formula for the t-statistic is:\n",
    "\n",
    "t = (x̄1 - x̄2) / (s_p * sqrt(1/n1 + 1/n2))\n",
    "\n",
    "where:\n",
    "\n",
    "x̄1 and x̄2 are the sample means for two independent samples\n",
    "s_p is the pooled standard deviation, calculated as:\n",
    "s_p = sqrt(((n1 - 1) * s1^2 + (n2 - 1) * s2^2) / (n1 + n2 - 2))\n",
    "\n",
    "s1 and s2 are the standard deviations of the two samples\n",
    "n1 and n2 are the sample sizes of the two samples\n",
    "The t-statistic follows a t-distribution with degrees of freedom equal to (n1 + n2 - 2) under the null hypothesis of equal population means. By comparing the calculated t-statistic to the appropriate t-distribution with the degrees of freedom, we can determine the p-value and make a decision regarding the null hypothesis."
   ]
  },
  {
   "cell_type": "markdown",
   "id": "e3792ebc-0dd8-4e36-be5e-a68484ae2e7e",
   "metadata": {},
   "source": [
    "# Q13"
   ]
  },
  {
   "cell_type": "markdown",
   "id": "02819f61-8efc-4109-9e9a-06e2bb6b1f36",
   "metadata": {},
   "source": [
    "To estimate the population mean revenue with a 95% confidence interval, we can use the following formula:\n",
    "\n",
    "Confidence interval = sample mean ± margin of error\n",
    "\n",
    "where the margin of error is:\n",
    "\n",
    "Margin of error = t-value * (standard deviation / sqrt(sample size))\n",
    "\n",
    "The t-value is based on the level of confidence and the degrees of freedom, which is equal to the sample size minus one (df = 50 - 1 = 49) in this case. For a 95% confidence interval and 49 degrees of freedom, the t-value is 2.0096, which we can look up in a t-distribution table or calculate using a statistical software.\n",
    "\n",
    "Substituting the values given in the problem, we have:\n",
    "\n",
    "Margin of error = 2.0096 * (50 / sqrt(50)) = 14.14\n",
    "\n",
    "Therefore, the 95% confidence interval for the population mean revenue is:\n",
    "\n",
    "Confidence interval = 500 ± 14.14 = (485.86, 514.14)"
   ]
  },
  {
   "cell_type": "markdown",
   "id": "b0551fc2-fa20-4af0-9ac1-bad44339f81b",
   "metadata": {},
   "source": [
    "# Q14"
   ]
  },
  {
   "cell_type": "markdown",
   "id": "b2b5f03c-29a4-46e7-9613-58299ee49b4b",
   "metadata": {},
   "source": [
    "To test the hypothesis with a significance level of 0.05, we can use a one-sample t-test with the following null and alternative hypotheses:\n",
    "\n",
    "Null hypothesis (H0): The true mean decrease in blood pressure is equal to 10 mmHg.\n",
    "Alternative hypothesis (Ha): The true mean decrease in blood pressure is less than 10 mmHg.\n",
    "We can calculate the test statistic, t-value, using the formula:\n",
    "\n",
    "t = (sample mean - hypothesized mean) / (standard deviation / sqrt(sample size))\n",
    "\n",
    "Substituting the given values, we get:\n",
    "\n",
    "t = (8 - 10) / (3 / sqrt(100)) = -4.47\n",
    "\n",
    "The degrees of freedom for this test are (sample size - 1) = 99. At a significance level of 0.05 and with 99 degrees of freedom, the critical t-value from a t-distribution table is -1.660. Since the calculated t-value (-4.47) is less than the critical t-value (-1.660), we can reject the null hypothesis.\n",
    "\n",
    "Therefore, we can conclude that there is sufficient evidence to suggest that the new drug decreases blood pressure by less than 10 mmHg."
   ]
  },
  {
   "cell_type": "markdown",
   "id": "7149944a-d106-4335-90b1-1b092d5562ab",
   "metadata": {},
   "source": [
    "# Q15"
   ]
  },
  {
   "cell_type": "markdown",
   "id": "4a618d77-29ca-43d5-85a3-e7e18d18a815",
   "metadata": {},
   "source": [
    "To test the hypothesis that the true mean weight of the products is less than 5 pounds with a significance level of 0.01, we can use a one-sample t-test with the following null and alternative hypotheses:\n",
    "\n",
    "Null hypothesis (H0): The true mean weight of the products is equal to 5 pounds.\n",
    "Alternative hypothesis (Ha): The true mean weight of the products is less than 5 pounds.\n",
    "We can calculate the test statistic, t-value, using the formula:\n",
    "\n",
    "t = (sample mean - hypothesized mean) / (standard deviation / sqrt(sample size))\n",
    "\n",
    "Substituting the given values, we get:\n",
    "\n",
    "t = (4.8 - 5) / (0.5 / sqrt(25)) = -2.0\n",
    "\n",
    "The degrees of freedom for this test are (sample size - 1) = 24. At a significance level of 0.01 and with 24 degrees of freedom, the critical t-value from a t-distribution table is -2.492. Since the calculated t-value (-2.0) is greater than the critical t-value (-2.492), we fail to reject the null hypothesis.\n",
    "\n",
    "Therefore, we cannot conclude that the true mean weight of the products is less than 5 pounds with a significance level of 0.01."
   ]
  },
  {
   "cell_type": "markdown",
   "id": "49b4075c-8003-49a5-9327-7c580bef5a2f",
   "metadata": {},
   "source": [
    "# Q16"
   ]
  },
  {
   "cell_type": "markdown",
   "id": "c99ea61f-0223-42da-bad7-b06f8235d12b",
   "metadata": {},
   "source": [
    "To test the hypothesis that the population means for the two groups are equal with a significance level of 0.01, we can use a two-sample t-test with the following null and alternative hypotheses:\n",
    "\n",
    "Null hypothesis (H0): The population means for the two groups are equal.\n",
    "Alternative hypothesis (Ha): The population means for the two groups are not equal.\n",
    "We can calculate the test statistic, t-value, using the formula:\n",
    "\n",
    "t = (sample mean difference - hypothesized difference) / (pooled standard deviation * sqrt(1/n1 + 1/n2))\n",
    "\n",
    "where:\n",
    "\n",
    "sample mean difference = mean1 - mean2\n",
    "hypothesized difference = 0 (since we are testing for equality of means)\n",
    "pooled standard deviation = sqrt(((n1-1)*s1^2 + (n2-1)*s2^2) / (n1+n2-2))\n",
    "Substituting the given values, we get:\n",
    "\n",
    "sample mean difference = 80 - 75 = 5\n",
    "s1 = 10, n1 = 30, s2 = 8, n2 = 40\n",
    "\n",
    "pooled standard deviation = sqrt(((30-1)*10^2 + (40-1)*8^2) / (30+40-2)) = 9.06\n",
    "\n",
    "t = (5 - 0) / (9.06 * sqrt(1/30 + 1/40)) = 2.27\n",
    "\n",
    "The degrees of freedom for this test are (n1 + n2 - 2) = 68. At a significance level of 0.01 and with 68 degrees of freedom, the critical t-value from a t-distribution table is ±2.625. Since the calculated t-value (2.27) is less than the critical t-value (2.625), we fail to reject the null hypothesis.\n",
    "\n",
    "Therefore, we cannot conclude that the population means for the two groups are not equal with a significance level of 0.01."
   ]
  },
  {
   "cell_type": "markdown",
   "id": "fcf4d034-7db9-46ed-9b77-7d2a026a2a15",
   "metadata": {},
   "source": [
    "# Q17"
   ]
  },
  {
   "cell_type": "markdown",
   "id": "6d6aca60-cef6-46db-a1df-8e70edf32935",
   "metadata": {},
   "source": [
    "CI = x̄ ± z*(σ/√n)\n",
    "\n",
    "where:\n",
    "\n",
    "x̄ is the sample mean\n",
    "z is the z-score associated with the desired confidence level (99%)\n",
    "σ is the population standard deviation (unknown)\n",
    "n is the sample size\n",
    "Since the population standard deviation is unknown, we can use the sample standard deviation as an estimate. The z-score associated with a 99% confidence level can be found using a standard normal distribution table or using a calculator function.\n",
    "\n",
    "Assuming a normal distribution, the z-score associated with a 99% confidence level is 2.576.\n",
    "\n",
    "Substituting the values into the formula, we get:CI = x̄ ± z*(σ/√n)\n",
    "\n",
    "\n",
    "CI = 4 ± 2.576*(1.5/√50)\n",
    "   = 4 ± 0.652\n",
    "   \n",
    "   \n",
    "   Therefore, the 99% confidence interval for the population mean is (3.348, 4.652). We can interpret this interval as follows: if we were to repeat the sampling process many times, we would expect the true population mean to fall within this interval 99% of the time.\n",
    "\n"
   ]
  },
  {
   "cell_type": "code",
   "execution_count": null,
   "id": "d45748e6-c0ab-4172-887f-aba10471e9c5",
   "metadata": {},
   "outputs": [],
   "source": []
  }
 ],
 "metadata": {
  "kernelspec": {
   "display_name": "Python 3 (ipykernel)",
   "language": "python",
   "name": "python3"
  },
  "language_info": {
   "codemirror_mode": {
    "name": "ipython",
    "version": 3
   },
   "file_extension": ".py",
   "mimetype": "text/x-python",
   "name": "python",
   "nbconvert_exporter": "python",
   "pygments_lexer": "ipython3",
   "version": "3.11.2"
  }
 },
 "nbformat": 4,
 "nbformat_minor": 5
}

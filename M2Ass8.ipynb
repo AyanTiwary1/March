{
 "cells": [
  {
   "cell_type": "markdown",
   "id": "d0b5c3ca-5426-474c-9329-ef8de22aedd4",
   "metadata": {},
   "source": [
    "# Assignment"
   ]
  },
  {
   "cell_type": "markdown",
   "id": "d8c44708-5c26-4dca-8780-904c08c676a9",
   "metadata": {},
   "source": [
    "# Q1"
   ]
  },
  {
   "cell_type": "markdown",
   "id": "5e3eef0f-10b9-48bb-b73c-ca110fd2fb62",
   "metadata": {},
   "source": [
    "In probability theory, a probability density function (PDF) is a mathematical function that describes the relative likelihood of different outcomes in a continuous random variable.\n",
    "\n",
    "Specifically, the probability density function of a random variable X is a function f(x) such that the probability of X being in the interval [a, b] is given by the integral of f(x) over that interval, i.e., the area under the curve of the PDF between a and b:\n",
    "\n",
    "P(a ≤ X ≤ b) = ∫a^b f(x)dx\n",
    "\n",
    "The probability density function is non-negative, i.e., f(x) ≥ 0 for all x, and its integral over the entire range of the random variable must be equal to 1, i.e.,\n",
    "\n",
    "∫-∞^∞ f(x)dx = 1\n",
    "\n",
    "The PDF can be used to calculate various properties of a continuous random variable, such as its mean, variance, and higher-order moments. It is a fundamental concept in probability theory and has numerous applications in statistics, engineering, physics, and other fields."
   ]
  },
  {
   "cell_type": "markdown",
   "id": "defd3fe0-f1c6-459c-a347-f9c6864a743b",
   "metadata": {},
   "source": [
    "#  Q2"
   ]
  },
  {
   "cell_type": "markdown",
   "id": "8633c3aa-3cf2-41f6-a916-b1fb2fc504a0",
   "metadata": {},
   "source": [
    "There are many types of probability distributions, but some of the most commonly used ones are:\n",
    "\n",
    "Normal distribution: Also known as the Gaussian distribution, it is the most well-known probability distribution and is often used in statistical analysis. It is a continuous distribution with a bell-shaped curve that is symmetrical about its mean.\n",
    "\n",
    "Binomial distribution: This is a discrete distribution that describes the number of successes in a fixed number of independent trials, where each trial has only two possible outcomes (e.g., success or failure).\n",
    "\n",
    "Poisson distribution: This is another discrete distribution that describes the number of events that occur in a fixed time interval or space, given a known rate of occurrence.\n",
    "\n",
    "Exponential distribution: This is a continuous distribution that describes the time between events in a Poisson process, where events occur randomly and independently at a constant rate.\n",
    "\n",
    "Uniform distribution: This is a continuous distribution where all values in a given range are equally likely to occur.\n",
    "\n",
    "Gamma distribution: This is a continuous distribution that is often used to model waiting times or the lifetime of products, among other things.\n",
    "\n",
    "Beta distribution: This is a continuous distribution that is often used to model probabilities or proportions, such as the probability of success in a Bernoulli trial."
   ]
  },
  {
   "cell_type": "markdown",
   "id": "8dd88745-86e3-493d-8040-725774543b74",
   "metadata": {},
   "source": [
    "# Q3"
   ]
  },
  {
   "cell_type": "code",
   "execution_count": 2,
   "id": "9458e187-b0d3-48e5-83ba-80ed107c82dc",
   "metadata": {
    "tags": []
   },
   "outputs": [
    {
     "name": "stdout",
     "output_type": "stream",
     "text": [
      "0.24197072451914337\n"
     ]
    }
   ],
   "source": [
    "import math\n",
    "\n",
    "def normal_pdf(x, mean, stdev):\n",
    "    exponent = math.exp(-(math.pow(x - mean, 2) / (2 * math.pow(stdev, 2))))\n",
    "    return (1 / (math.sqrt(2 * math.pi) * stdev)) * exponent\n",
    "#f(x) = (1 / (sqrt(2 * pi) * stdev)) * e^(-(x - mean)^2 / (2 * stdev^2))\n",
    "pdf_value = normal_pdf(1, 0, 1)\n",
    "print(pdf_value)\n"
   ]
  },
  {
   "cell_type": "markdown",
   "id": "5ade64f7-0655-4ed2-9e9d-455e5348fef7",
   "metadata": {},
   "source": [
    "# Q4"
   ]
  },
  {
   "cell_type": "markdown",
   "id": "24820232-66ef-46a8-9046-9ce97c6137f0",
   "metadata": {},
   "source": [
    "The binomial distribution has several important properties, including:\n",
    "\n",
    "It is a discrete probability distribution, meaning that it is used to model events with a finite number of outcomes or trials.\n",
    "Each trial is independent and has only two possible outcomes, usually labeled as \"success\" and \"failure\".\n",
    "The probability of success (p) is constant across all trials.\n",
    "The number of successes in a fixed number of trials (n) is a random variable that follows a binomial distribution.\n",
    "The mean of the distribution is μ = np, and the variance is σ^2 = np(1-p).\n",
    "Two examples of events where the binomial distribution can be applied are:\n",
    "\n",
    "Flipping a coin: If we flip a fair coin (i.e., with a probability of success of 0.5) 10 times, we can model the number of heads obtained using a binomial distribution. Here, n = 10 and p = 0.5.\n",
    "\n",
    "Quality control in manufacturing: A manufacturer inspects a sample of 100 products and checks if they meet certain quality standards. If the probability of a product passing inspection is 0.95, we can model the number of products that pass using a binomial distribution. Here, n = 100 and p = 0.95. We can use this distribution to calculate the probability of obtaining a certain number of defective products in the sample."
   ]
  },
  {
   "cell_type": "markdown",
   "id": "ebd1a1ea-d5ac-4ebc-99dd-cb082959c9d9",
   "metadata": {},
   "source": [
    "# Q5"
   ]
  },
  {
   "cell_type": "code",
   "execution_count": null,
   "id": "b7aad904-a207-4053-9cff-d9a2a81547f1",
   "metadata": {},
   "outputs": [],
   "source": [
    "import numpy as np\n",
    "import matplotlib.pyplot as plt\n",
    "\n",
    "# Set the random seed for reproducibility\n",
    "np.random.seed(123)\n",
    "\n",
    "# Generate a random sample of size 1000 from a binomial distribution with n=1 and p=0.4\n",
    "sample = np.random.binomial(n=1, p=0.4, size=1000)\n",
    "\n",
    "# Plot a histogram of the sample\n",
    "plt.hist(sample, bins=2, edgecolor='black')\n",
    "plt.xticks([0, 1], ['Failure', 'Success'])\n",
    "plt.xlabel('Outcome')\n",
    "plt.ylabel('Frequency')\n",
    "plt.title('Histogram of Random Sample from a Binomial Distribution')\n",
    "plt.show()"
   ]
  },
  {
   "cell_type": "markdown",
   "id": "71b06f9a-24c4-42ec-9eab-13ba94516e08",
   "metadata": {},
   "source": [
    "# Q6"
   ]
  },
  {
   "cell_type": "code",
   "execution_count": null,
   "id": "8ee09100-87ab-4b75-a444-a3e1e7e535ee",
   "metadata": {
    "tags": []
   },
   "outputs": [],
   "source": [
    "from scipy.stats import poisson\n",
    "\n",
    "def poisson_cdf(mean, x):\n",
    "   \n",
    "    cdf = poisson.cdf(x, mu=mean)\n",
    "    return cdf\n",
    "mean = 2.5\n",
    "x = 4\n",
    "cdf = poisson_cdf(mean, x)\n",
    "print(cdf)\n",
    "\n"
   ]
  },
  {
   "cell_type": "markdown",
   "id": "2757b8c8-1b27-42e2-82fc-272028af0800",
   "metadata": {},
   "source": [
    "# Q7"
   ]
  },
  {
   "cell_type": "markdown",
   "id": "ae923861-7775-45ad-a4e9-bfb5b5051116",
   "metadata": {},
   "source": [
    "Binomial distribution and Poisson distribution are two common probability distributions used to model discrete events.\n",
    "\n",
    "The main difference between the two distributions is in the way they are parameterized and the types of events they are used to model:\n",
    "\n",
    "Parameterization:\n",
    "The binomial distribution has two parameters: n, the number of trials, and p, the probability of success for each trial.\n",
    "The Poisson distribution has one parameter: λ (lambda), which represents the average rate of occurrence of the event.\n",
    "Types of events:\n",
    "The binomial distribution is used to model events that have a fixed number of trials, where each trial is independent and has the same probability of success. Examples include flipping a coin a fixed number of times, or counting the number of defective items in a sample of a fixed size.\n",
    "The Poisson distribution is used to model events where the number of occurrences in a fixed interval of time or space is of interest, such as the number of customers arriving at a store per hour, or the number of earthquakes per year in a certain region.\n",
    "In terms of the shapes of the distributions, the binomial distribution is usually bell-shaped when n is large, while the Poisson distribution is skewed to the right."
   ]
  },
  {
   "cell_type": "markdown",
   "id": "cb865b1d-f69e-45dd-a58d-ec7c288f3528",
   "metadata": {},
   "source": [
    "# Q8"
   ]
  },
  {
   "cell_type": "code",
   "execution_count": null,
   "id": "22732b86-4729-486c-a033-eb50a601d1df",
   "metadata": {},
   "outputs": [],
   "source": [
    "import numpy as np\n",
    "\n",
    "# Set the parameters\n",
    "mean = 5\n",
    "n = 1000\n",
    "\n",
    "# Generate the random sample\n",
    "sample = np.random.poisson(mean, n)\n",
    "\n",
    "# Calculate the sample mean and variance\n",
    "sample_mean = np.mean(sample)\n",
    "sample_var = np.var(sample, ddof=1)\n",
    "\n",
    "# Print the results\n",
    "print(\"Sample Mean:\", sample_mean)\n",
    "print(\"Sample Variance:\", sample_var)\n"
   ]
  },
  {
   "cell_type": "markdown",
   "id": "2e1c27a8-3fe0-4017-854f-9b2650f9fad7",
   "metadata": {},
   "source": [
    "# Q9"
   ]
  },
  {
   "cell_type": "code",
   "execution_count": null,
   "id": "11e4f69c-85ce-4fbd-b7a5-7a26251d27d1",
   "metadata": {},
   "outputs": [],
   "source": [
    "Mean = n * p\n",
    "Variance = n * p * (1 - p)\n",
    "#In a binomial distribution with parameters n and p, the mean and variance are related as"
   ]
  },
  {
   "cell_type": "code",
   "execution_count": null,
   "id": "ba67b0f5-ebb9-4ff0-9a15-3aff8ccee4a3",
   "metadata": {},
   "outputs": [],
   "source": [
    "Mean = λ\n",
    "Variance = λ\n",
    "#In a Poisson distribution with parameter λ, the mean and variance are related as:"
   ]
  },
  {
   "cell_type": "markdown",
   "id": "5e5ec462-8bc8-4831-a553-581cf61476f9",
   "metadata": {},
   "source": [
    "In both cases, the mean and variance are directly proportional to each other. This means that as the mean increases, the variance also increases, and as the mean decreases, the variance also decreases.\n",
    "\n",
    "However, there is an important difference between the binomial and Poisson distributions in terms of the relationship between the mean and variance. In a binomial distribution, the variance is dependent on both n and p, whereas in a Poisson distribution, the variance is equal to the mean, regardless of the value of λ."
   ]
  },
  {
   "cell_type": "markdown",
   "id": "e648d68b-501c-4f98-8a53-d40752b1456d",
   "metadata": {},
   "source": [
    "# Q10"
   ]
  },
  {
   "cell_type": "markdown",
   "id": "d06bdca8-351f-4c13-87f6-80e612c7408e",
   "metadata": {},
   "source": [
    "In a normal distribution, the data is symmetric around the mean, meaning that the least frequent data appears at the tails of the distribution, farthest from the mean.\n",
    "\n",
    "The normal distribution is a bell-shaped curve, with the peak of the curve at the mean. As we move away from the mean in either direction, the probability density of the data decreases, forming the tails of the distribution. The least frequent data points are therefore located in the tails of the distribution, farthest from the mean"
   ]
  },
  {
   "cell_type": "code",
   "execution_count": null,
   "id": "a7c246f1-3271-42e0-a1dd-3a116d657f72",
   "metadata": {},
   "outputs": [],
   "source": []
  }
 ],
 "metadata": {
  "kernelspec": {
   "display_name": "Python 3 (ipykernel)",
   "language": "python",
   "name": "python3"
  },
  "language_info": {
   "codemirror_mode": {
    "name": "ipython",
    "version": 3
   },
   "file_extension": ".py",
   "mimetype": "text/x-python",
   "name": "python",
   "nbconvert_exporter": "python",
   "pygments_lexer": "ipython3",
   "version": "3.11.2"
  }
 },
 "nbformat": 4,
 "nbformat_minor": 5
}

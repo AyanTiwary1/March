{
 "cells": [
  {
   "cell_type": "markdown",
   "id": "a77e8bed-c6d4-4bd3-a9b7-b44fe9302f89",
   "metadata": {},
   "source": [
    "# Assignment"
   ]
  },
  {
   "cell_type": "markdown",
   "id": "8efb96e0-94d1-4c55-931b-162b8b250210",
   "metadata": {},
   "source": [
    "# Q1"
   ]
  },
  {
   "cell_type": "code",
   "execution_count": 1,
   "id": "179ab41c-f4cc-4378-9dfd-3a8457ed15ab",
   "metadata": {
    "tags": []
   },
   "outputs": [
    {
     "name": "stdout",
     "output_type": "stream",
     "text": [
      "95% Confidence Interval: [49.02, 50.98]\n"
     ]
    }
   ],
   "source": [
    "import scipy.stats as stats\n",
    "\n",
    "# Set the sample mean and standard deviation\n",
    "sample_mean = 50\n",
    "sample_std = 5\n",
    "\n",
    "# Set the significance level and degrees of freedom\n",
    "alpha = 0.05\n",
    "n = 100\n",
    "\n",
    "# Calculate the standard error of the mean\n",
    "std_error = sample_std / (n ** 0.5)\n",
    "\n",
    "# Calculate the lower and upper bounds of the confidence interval\n",
    "lower, upper = stats.norm.interval(1-alpha, loc=sample_mean, scale=std_error)\n",
    "\n",
    "# Print the confidence interval\n",
    "print(f\"95% Confidence Interval: [{lower:.2f}, {upper:.2f}]\")\n"
   ]
  },
  {
   "cell_type": "markdown",
   "id": "4ec418fe-44b3-41a8-87a4-87aac955a8e3",
   "metadata": {},
   "source": [
    "# Q2"
   ]
  },
  {
   "cell_type": "code",
   "execution_count": null,
   "id": "6f59de1e-e5f8-485f-aec4-f4ebd8b2d1d7",
   "metadata": {
    "tags": []
   },
   "outputs": [],
   "source": [
    "import numpy as np\n",
    "from scipy.stats import chisquare\n",
    "\n",
    "# Set the observed and expected frequencies\n",
    "observed = np.array([15, 20, 22, 8, 10, 25])\n",
    "expected = np.array([30, 30, 30, 15, 15, 30]) * 0.2\n",
    "\n",
    "# Perform the chi-square goodness of fit test\n",
    "stat, p_value = chisquare(observed, expected)\n",
    "\n",
    "# Print the test statistic and p-value\n",
    "print(f\"Chi-Square Statistic: {stat:.2f}\")\n",
    "print(f\"P-value: {p_value:.4f}\")\n",
    "\n",
    "# Determine if the null hypothesis is rejected or not\n",
    "if p_value < 0.05:\n",
    "    print(\"The null hypothesis is rejected. The distribution of colors in the bag is not as expected.\")\n",
    "else:\n",
    "    print(\"The null hypothesis cannot be rejected. The distribution of colors in the bag is as expected.\")"
   ]
  },
  {
   "cell_type": "markdown",
   "id": "7b88ecb3-3d8a-4e93-b915-8426a40bc53c",
   "metadata": {},
   "source": [
    "# Q3"
   ]
  },
  {
   "cell_type": "code",
   "execution_count": 6,
   "id": "cf7c8eb2-352c-4058-a7e1-e5b60fddc227",
   "metadata": {
    "tags": []
   },
   "outputs": [
    {
     "name": "stdout",
     "output_type": "stream",
     "text": [
      "Chi-Square Statistic: 5.83\n",
      "P-value: 0.0541\n"
     ]
    }
   ],
   "source": [
    "import numpy as np\n",
    "from scipy.stats import chi2_contingency\n",
    "\n",
    "# Create the contingency table\n",
    "observed = np.array([[20, 15], [10, 25], [15, 20]])\n",
    "\n",
    "# Perform the chi-square test\n",
    "stat, p_value, dof, expected = chi2_contingency(observed)\n",
    "\n",
    "# Print the test statistic and p-value\n",
    "print(f\"Chi-Square Statistic: {stat:.2f}\")\n",
    "print(f\"P-value: {p_value:.4f}\")\n"
   ]
  },
  {
   "cell_type": "markdown",
   "id": "aceb8741-28d9-4fda-b4d3-406931168e52",
   "metadata": {},
   "source": [
    "# Q4"
   ]
  },
  {
   "cell_type": "code",
   "execution_count": 9,
   "id": "204f3d49-c3eb-4c82-af23-f36cd7dc95c2",
   "metadata": {
    "tags": []
   },
   "outputs": [
    {
     "name": "stdout",
     "output_type": "stream",
     "text": [
      "95% Confidence Interval: (0.0944, 0.1514)\n"
     ]
    }
   ],
   "source": [
    "from statsmodels.stats.proportion import proportion_confint\n",
    "\n",
    "# Set the sample size and number of smokers\n",
    "n = 500\n",
    "num_smokers = 60\n",
    "\n",
    "# Calculate the proportion of smokers in the sample\n",
    "p = num_smokers / n\n",
    "\n",
    "# Calculate the confidence interval\n",
    "ci = proportion_confint(num_smokers, n, alpha=0.05, method='wilson')\n",
    "\n",
    "# Print the confidence interval\n",
    "print(f\"95% Confidence Interval: ({ci[0]:.4f}, {ci[1]:.4f})\")\n"
   ]
  },
  {
   "cell_type": "markdown",
   "id": "413e1377-203a-4128-8b56-9476e6e5bc8d",
   "metadata": {},
   "source": [
    "# Q5"
   ]
  },
  {
   "cell_type": "code",
   "execution_count": 10,
   "id": "a0004d08-6158-4fe4-864e-426794c8e0cb",
   "metadata": {
    "tags": []
   },
   "outputs": [
    {
     "name": "stdout",
     "output_type": "stream",
     "text": [
      "90.0% Confidence Interval: (55.26, 94.74)\n"
     ]
    }
   ],
   "source": [
    "import scipy.stats as stats\n",
    "\n",
    "# Set the sample size, mean, and standard deviation\n",
    "n = 1\n",
    "mean = 75\n",
    "std_dev = 12\n",
    "\n",
    "# Set the confidence level\n",
    "conf_level = 0.9\n",
    "\n",
    "# Calculate the standard error\n",
    "std_err = std_dev / (n ** 0.5)\n",
    "\n",
    "# Calculate the confidence interval\n",
    "ci = stats.norm.interval(conf_level, loc=mean, scale=std_err)\n",
    "\n",
    "# Print the confidence interval\n",
    "print(f\"{conf_level*100}% Confidence Interval: ({ci[0]:.2f}, {ci[1]:.2f})\")\n"
   ]
  },
  {
   "cell_type": "markdown",
   "id": "26c5b303-45d3-47cf-9709-5386247dc723",
   "metadata": {},
   "source": [
    "# Q6"
   ]
  },
  {
   "cell_type": "code",
   "execution_count": null,
   "id": "19729244-a0ae-4c20-96a0-5e0ca0af2cbe",
   "metadata": {},
   "outputs": [],
   "source": [
    "import numpy as np\n",
    "import matplotlib.pyplot as plt\n",
    "import scipy.stats as stats\n",
    "\n",
    "# Set the degrees of freedom\n",
    "df = 10\n",
    "\n",
    "# Set the x-axis range\n",
    "x = np.linspace(stats.chi2.ppf(0.01, df), stats.chi2.ppf(0.99, df), 100)\n",
    "\n",
    "# Set the y-axis values for the chi-square distribution\n",
    "y = stats.chi2.pdf(x, df)\n",
    "\n",
    "# Create the plot\n",
    "fig, ax = plt.subplots()\n",
    "ax.plot(x, y)\n",
    "\n",
    "# Shade the area corresponding to a chi-square statistic of 15\n",
    "ax.fill_between(x[x>=15], y[x>=15], color='grey', alpha=0.5)\n",
    "\n",
    "# Label the axes\n",
    "ax.set_xlabel('Chi-Square Statistic')\n",
    "ax.set_ylabel('Probability Density')\n",
    "ax.set_title(f'Chi-Square Distribution with {df} Degrees of Freedom')\n",
    "\n",
    "# Show the plot\n",
    "plt.show()\n"
   ]
  },
  {
   "cell_type": "markdown",
   "id": "4fb3766d-af7e-4726-aa35-2d699c85e86b",
   "metadata": {},
   "source": [
    "# Q7"
   ]
  },
  {
   "cell_type": "markdown",
   "id": "32737710-f6ef-490a-a802-e1b7b3bbac0d",
   "metadata": {},
   "source": [
    "To calculate a 99% confidence interval for the true proportion of people in the population who prefer Coke, given a sample of 1000 people and 520 who preferred Coke, we can use the following formula:\n",
    "\n",
    "CI = (p-h, p+h)\n",
    "\n",
    "where p is the sample proportion, h is the margin of error, and CI is the confidence interval.\n",
    "\n",
    "The sample proportion is simply the number of people who preferred Coke divided by the sample size:\n",
    "\n",
    "p = 520 / 1000 = 0.52\n",
    "\n",
    "The margin of error can be calculated as:\n",
    "\n",
    "h = z * sqrt(p * (1-p) / n)\n",
    "\n",
    "where z is the critical value from the standard normal distribution corresponding to a 99% confidence level, p is the sample proportion, and n is the sample size."
   ]
  },
  {
   "cell_type": "code",
   "execution_count": 11,
   "id": "91b4f458-f504-47b4-8e0e-e2fe13974331",
   "metadata": {
    "tags": []
   },
   "outputs": [
    {
     "name": "stdout",
     "output_type": "stream",
     "text": [
      "99% confidence interval for the proportion of people who prefer Coke: (0.4793, 0.5607)\n"
     ]
    }
   ],
   "source": [
    "import scipy.stats as stats\n",
    "import math\n",
    "\n",
    "# Set sample size, number who preferred Coke, and confidence level\n",
    "n = 1000\n",
    "x = 520\n",
    "conf_level = 0.99\n",
    "\n",
    "# Calculate sample proportion\n",
    "p = x / n\n",
    "\n",
    "# Calculate critical value from standard normal distribution\n",
    "z = stats.norm.ppf((1 + conf_level) / 2)\n",
    "\n",
    "# Calculate margin of error\n",
    "h = z * math.sqrt(p * (1 - p) / n)\n",
    "\n",
    "# Calculate confidence interval\n",
    "ci = (p - h, p + h)\n",
    "\n",
    "# Print confidence interval\n",
    "print(\"99% confidence interval for the proportion of people who prefer Coke: ({:.4f}, {:.4f})\".format(ci[0], ci[1]))\n",
    "\n"
   ]
  },
  {
   "cell_type": "markdown",
   "id": "33118121-6714-429a-8208-6c74d8bfce82",
   "metadata": {},
   "source": [
    "# Q8"
   ]
  },
  {
   "cell_type": "code",
   "execution_count": 12,
   "id": "0b26b8a4-3deb-4577-be2e-279afab54317",
   "metadata": {
    "tags": []
   },
   "outputs": [
    {
     "name": "stdout",
     "output_type": "stream",
     "text": [
      "Chi-square test statistic: 1.00\n",
      "Degrees of freedom: 1\n",
      "p-value: 0.3173\n",
      "Fail to reject null hypothesis: The coin is fair\n"
     ]
    }
   ],
   "source": [
    "import numpy as np\n",
    "import scipy.stats as stats\n",
    "\n",
    "# Set observed frequencies\n",
    "observed_freq = [55, 45]\n",
    "\n",
    "# Set expected frequencies (assuming a fair coin)\n",
    "expected_freq = [50, 50]\n",
    "\n",
    "# Calculate chi-square test statistic\n",
    "chi_square_stat = np.sum((np.array(observed_freq) - np.array(expected_freq))**2 / np.array(expected_freq))\n",
    "\n",
    "# Calculate degrees of freedom\n",
    "df = len(observed_freq) - 1\n",
    "\n",
    "# Calculate p-value\n",
    "p_val = 1 - stats.chi2.cdf(chi_square_stat, df)\n",
    "\n",
    "# Print results\n",
    "print(\"Chi-square test statistic: {:.2f}\".format(chi_square_stat))\n",
    "print(\"Degrees of freedom: {}\".format(df))\n",
    "print(\"p-value: {:.4f}\".format(p_val))\n",
    "\n",
    "# Compare p-value to significance level\n",
    "if p_val <= 0.05:\n",
    "    print(\"Reject null hypothesis: The coin is biased towards tails\")\n",
    "else:\n",
    "    print(\"Fail to reject null hypothesis: The coin is fair\")\n"
   ]
  },
  {
   "cell_type": "markdown",
   "id": "7669a410-b33f-4536-abd6-ed58a079c652",
   "metadata": {},
   "source": [
    "# Q9"
   ]
  },
  {
   "cell_type": "code",
   "execution_count": 14,
   "id": "74739406-83d0-49d6-983f-47d4dc72d932",
   "metadata": {
    "tags": []
   },
   "outputs": [
    {
     "name": "stdout",
     "output_type": "stream",
     "text": [
      "Chi-square statistic: 12.057347670250895\n",
      "P-value: 0.0005158863863703744\n"
     ]
    }
   ],
   "source": [
    "import numpy as np\n",
    "from scipy.stats import chi2_contingency\n",
    "\n",
    "observed = np.array([[60, 140], [30, 170]])\n",
    "chi2, pval, dof, expected = chi2_contingency(observed)\n",
    "\n",
    "print(\"Chi-square statistic:\", chi2)\n",
    "print(\"P-value:\", pval)\n"
   ]
  },
  {
   "cell_type": "markdown",
   "id": "d7f749db-73e0-463b-85c5-bf826d71eb64",
   "metadata": {},
   "source": [
    "# Q10"
   ]
  },
  {
   "cell_type": "code",
   "execution_count": 15,
   "id": "026ab1e3-35b1-4071-9a39-1b1c74d247fc",
   "metadata": {
    "tags": []
   },
   "outputs": [
    {
     "name": "stdout",
     "output_type": "stream",
     "text": [
      "Chi-square statistic: 13.393665158371041\n",
      "P-value: 0.0012348168997745915\n"
     ]
    }
   ],
   "source": [
    "import numpy as np\n",
    "from scipy.stats import chi2_contingency\n",
    "\n",
    "observed = np.array([[200, 150, 150], [225, 175, 100]])\n",
    "chi2, pval, dof, expected = chi2_contingency(observed)\n",
    "\n",
    "print(\"Chi-square statistic:\", chi2)\n",
    "print(\"P-value:\", pval)\n",
    "# Since the p-value is less than the significance level of 0.01, we reject the null hypothesis and\n",
    "# conclude that there is a significant association between chocolate preference and country of origin."
   ]
  },
  {
   "cell_type": "markdown",
   "id": "b189c339-2024-4104-9b16-391a1b5d12f8",
   "metadata": {},
   "source": [
    "# Q11"
   ]
  },
  {
   "cell_type": "code",
   "execution_count": 17,
   "id": "5464e10e-7a06-4683-bab6-91b2d96bfe1e",
   "metadata": {
    "tags": []
   },
   "outputs": [
    {
     "name": "stdout",
     "output_type": "stream",
     "text": [
      "t-statistic: 1.0954451150103321\n",
      "P-value: 0.2823362372860698\n"
     ]
    }
   ],
   "source": [
    "import numpy as np\n",
    "from scipy.stats import t\n",
    "\n",
    "sample_mean = 72\n",
    "pop_mean = 70\n",
    "sample_std = 10\n",
    "n = 30\n",
    "\n",
    "# calculate the t-statistic\n",
    "t_stat = (sample_mean - pop_mean) / (sample_std / np.sqrt(n))\n",
    "\n",
    "# calculate the p-value\n",
    "pval = 2 * (1 - t.cdf(abs(t_stat), n-1))\n",
    "\n",
    "print(\"t-statistic:\", t_stat)\n",
    "print(\"P-value:\", pval)\n"
   ]
  },
  {
   "cell_type": "code",
   "execution_count": null,
   "id": "551dcc2e-6626-4e59-bccb-941fc69d8f54",
   "metadata": {},
   "outputs": [],
   "source": []
  }
 ],
 "metadata": {
  "kernelspec": {
   "display_name": "Python 3 (ipykernel)",
   "language": "python",
   "name": "python3"
  },
  "language_info": {
   "codemirror_mode": {
    "name": "ipython",
    "version": 3
   },
   "file_extension": ".py",
   "mimetype": "text/x-python",
   "name": "python",
   "nbconvert_exporter": "python",
   "pygments_lexer": "ipython3",
   "version": "3.11.2"
  }
 },
 "nbformat": 4,
 "nbformat_minor": 5
}

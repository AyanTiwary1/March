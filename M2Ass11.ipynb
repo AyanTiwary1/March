{
 "cells": [
  {
   "cell_type": "markdown",
   "id": "30237de3-7b0c-4f72-a08d-2f3a1cceb02a",
   "metadata": {},
   "source": [
    "# Assignment"
   ]
  },
  {
   "cell_type": "markdown",
   "id": "8ee9fa63-8f44-4eef-a0c8-a91f79517165",
   "metadata": {},
   "source": [
    "# Q1"
   ]
  },
  {
   "cell_type": "markdown",
   "id": "a999d83c-e233-42c4-b357-f698567868a4",
   "metadata": {},
   "source": [
    "A t-test and a z-test are both statistical tests used to make inferences about population parameters based on sample statistics. However, they differ in the following aspects:\n",
    "\n",
    "Population Standard Deviation: A z-test assumes that the population standard deviation is known, while a t-test assumes that the population standard deviation is unknown and estimates it from the sample standard deviation.\n",
    "\n",
    "Sample Size: A z-test can be used for any sample size, while a t-test is more appropriate for small sample sizes (n < 30). For large sample sizes, the t-distribution approaches the standard normal distribution, and a z-test can be used.\n",
    "\n",
    "Example scenarios where you would use each type of test:\n",
    "\n",
    "Z-Test: Suppose we want to test whether the average weight of a certain type of product is equal to a target value of 10 pounds. We have a large sample size of 500 products, and the population standard deviation is known to be 1.5 pounds. In this case, we can use a z-test to test the hypothesis.\n",
    "\n",
    "T-Test: Suppose we want to test whether the average score of a group of students in a certain test is significantly different from the population mean score of 75. We have a small sample size of 20 students, and the population standard deviation is unknown. In this case, we can use a t-test to test the hypothesis."
   ]
  },
  {
   "cell_type": "markdown",
   "id": "1a8fc4cf-0f08-4b95-8000-86631e43c7cc",
   "metadata": {},
   "source": [
    "# Q2"
   ]
  },
  {
   "cell_type": "markdown",
   "id": "d0c2c7fc-ad8b-40f1-886d-d4697394cb93",
   "metadata": {},
   "source": [
    "In hypothesis testing, the null hypothesis is usually tested against an alternative hypothesis. The alternative hypothesis can be one-tailed or two-tailed, depending on the research question.\n",
    "\n",
    "A one-tailed test is a statistical test in which the alternative hypothesis is directional and states that the population parameter is either greater than or less than a specified value. This type of test is also known as a directional test. For example, if we want to test whether a new drug increases the mean survival rate of patients, we can use a one-tailed test with the alternative hypothesis being that the mean survival rate is greater than a specified value (i.e., the null hypothesis is that the mean survival rate is not greater than the specified value).\n",
    "\n",
    "A two-tailed test is a statistical test in which the alternative hypothesis is non-directional and states that the population parameter is different from a specified value. This type of test is also known as a non-directional test. For example, if we want to test whether a new treatment has an effect on the mean score of a certain test, we can use a two-tailed test with the alternative hypothesis being that the mean score is different from a specified value (i.e., the null hypothesis is that the mean score is equal to the specified value).\n",
    "\n",
    "In summary, the main difference between one-tailed and two-tailed tests is the directionality of the alternative hypothesis. One-tailed tests are used when the research question is directional, while two-tailed tests are used when the research question is non-directional.\n",
    "\n",
    "\n",
    "\n",
    "\n"
   ]
  },
  {
   "cell_type": "markdown",
   "id": "d4fe4218-90a8-4eda-a51d-66a93a910bb8",
   "metadata": {},
   "source": [
    "# Q3"
   ]
  },
  {
   "cell_type": "markdown",
   "id": "bd49bb9a-b1fa-4b62-8079-a71e8ad8fc0e",
   "metadata": {},
   "source": [
    "In hypothesis testing, Type 1 error and Type 2 error are two types of errors that can occur when making decisions based on the results of a statistical test.\n",
    "\n",
    "Type 1 error, also known as a false positive, occurs when we reject a null hypothesis that is actually true. In other words, we conclude that there is a significant effect or relationship when there is actually no such effect or relationship in the population. The probability of making a Type 1 error is denoted by the symbol alpha (α) and is set by the researcher before conducting the test. It is also known as the level of significance.\n",
    "\n",
    "Example scenario: A medical researcher is testing a new drug to see if it reduces the risk of heart attacks. They set a significance level of 0.05 (α = 0.05) and conduct a hypothesis test. If they reject the null hypothesis and conclude that the drug is effective, but in reality, the drug is not effective, this is a Type 1 error.\n",
    "\n",
    "Type 2 error, also known as a false negative, occurs when we fail to reject a null hypothesis that is actually false. In other words, we conclude that there is no significant effect or relationship when there is actually such an effect or relationship in the population. The probability of making a Type 2 error is denoted by the symbol beta (β).\n",
    "\n",
    "Example scenario: A manufacturer produces light bulbs and claims that they have an average lifespan of at least 1000 hours. A researcher tests a sample of bulbs and fails to reject the null hypothesis that the true average lifespan is 1000 hours. However, in reality, the bulbs have an average lifespan of only 800 hours. This is a Type 2 error."
   ]
  },
  {
   "cell_type": "markdown",
   "id": "fba0d690-31b1-46c4-93e1-2c22c71c5b43",
   "metadata": {},
   "source": [
    "# Q4"
   ]
  },
  {
   "cell_type": "markdown",
   "id": "28000740-8366-419e-b6be-29cdca0ce0bb",
   "metadata": {},
   "source": [
    "Bayes's theorem is a probability theorem that describes the probability of an event based on prior knowledge of related conditions. It was named after the English mathematician Thomas Bayes.\n",
    "\n",
    "The theorem is expressed mathematically as:\n",
    "\n",
    "P(A|B) = (P(B|A) * P(A)) / P(B)\n",
    "\n",
    "where:\n",
    "\n",
    "P(A|B) is the probability of A given B\n",
    "P(B|A) is the probability of B given A\n",
    "P(A) is the prior probability of A\n",
    "P(B) is the prior probability of B\n",
    "For example, let's say we want to know the probability that a person has a certain medical condition given that they have tested positive for the condition. We know that the test for this condition has a 95% accuracy rate, meaning that if a person has the condition, there is a 95% chance that the test will detect it, and if a person does not have the condition, there is a 5% chance that the test will falsely identify them as having the condition.\n",
    "\n",
    "Let A represent the event that the person has the medical condition, and B represent the event that the person tests positive for the condition.\n",
    "\n",
    "Assume that the prior probability of the person having the condition, P(A), is 1%. Then we can calculate the probability of the person having the condition given that they tested positive, P(A|B), using Bayes's theorem as follows:\n",
    "\n",
    "P(B|A) = 0.95 (the probability of testing positive given that the person has the condition)\n",
    "P(B|not A) = 0.05 (the probability of testing positive given that the person does not have the condition)\n",
    "P(A) = 0.01 (the prior probability of the person having the condition)\n",
    "P(not A) = 0.99 (the prior probability of the person not having the condition)\n",
    "\n",
    "P(B) = P(B|A)P(A) + P(B|not A)P(not A)\n",
    "= 0.950.01 + 0.050.99\n",
    "= 0.059\n",
    "\n",
    "Now we can calculate P(A|B) as:\n",
    "\n",
    "P(A|B) = (P(B|A) * P(A)) / P(B)\n",
    "= (0.95 * 0.01) / 0.059\n",
    "= 0.161 (or 16.1%)\n",
    "\n",
    "Therefore, the probability that the person has the medical condition given that they tested positive is 16.1%, even though the test has a 95% accuracy rate. This demonstrates how prior probabilities can have a significant impact on the final probability calculation."
   ]
  },
  {
   "cell_type": "markdown",
   "id": "638de6e7-1cc6-4cba-b1bc-8d5db9cea219",
   "metadata": {},
   "source": [
    "# Q5"
   ]
  },
  {
   "cell_type": "markdown",
   "id": "ce7f2f16-885c-4449-b4db-4b2a81444a76",
   "metadata": {},
   "source": [
    "A confidence interval is a range of values that is likely to contain the true value of a population parameter, such as a population mean or proportion, based on a sample of data. It is expressed as a range of values with a certain level of confidence, usually 95% or 99%. The confidence level represents the percentage of all possible samples that can be expected to produce a confidence interval containing the true population parameter.\n",
    "\n",
    "To calculate a confidence interval, we need to know the sample mean, sample standard deviation (or standard error), sample size, and the desired level of confidence. The formula for calculating a confidence interval for a population mean is:\n",
    "\n",
    "CI = X ± Z * (s / √n)\n",
    "\n",
    "Where:\n",
    "\n",
    "CI: confidence interval\n",
    "X: sample mean\n",
    "Z: Z-score corresponding to the desired level of confidence (e.g., 1.96 for a 95% confidence level)\n",
    "s: sample standard deviation\n",
    "n: sample size\n",
    "For example, suppose we want to estimate the average height of all male college students in a certain city with a 95% confidence level. We take a random sample of 50 male college students and find that the sample mean height is 68 inches, and the sample standard deviation is 2.5 inches. The Z-score corresponding to a 95% confidence level is 1.96. Therefore, the confidence interval can be calculated as:\n",
    "\n",
    "CI = 68 ± 1.96 * (2.5 / √50)\n",
    "= 68 ± 0.7\n",
    "= (67.3, 68.7)\n",
    "\n",
    "We can say with 95% confidence that the true population mean height of male college students in the city is between 67.3 inches and 68.7 inches."
   ]
  },
  {
   "cell_type": "markdown",
   "id": "a9db9271-4348-48ea-8b42-beb4829ae552",
   "metadata": {},
   "source": [
    "# Q6"
   ]
  },
  {
   "cell_type": "markdown",
   "id": "5b200c86-74fa-4a08-9308-e88c6ca66e18",
   "metadata": {},
   "source": [
    "Suppose that a rare disease affects 1 in 100,000 people in a population. A new diagnostic test has been developed that correctly identifies the disease in 99% of cases and incorrectly identifies it in 2% of cases where the disease is not present. If a person tests positive for the disease, what is the probability that they actually have the disease?\n",
    "\n",
    "To solve this problem using Bayes' Theorem, we need to define some probabilities:\n",
    "\n",
    "Let A be the event that a person has the disease, and let B be the event that the diagnostic test is positive.\n",
    "\n",
    "We know that:\n",
    "\n",
    "P(A) = 1/100,000 = 0.00001 (the prior probability of having the disease)\n",
    "P(B|A) = 0.99 (the probability of testing positive given that the person has the disease)\n",
    "P(B|not A) = 0.02 (the probability of testing positive given that the person does not have the disease)\n",
    "We want to find P(A|B), the probability of having the disease given that the person tests positive.\n",
    "\n",
    "Using Bayes' Theorem, we can write:\n",
    "P(A|B) = P(B|A) * P(A) / P(B)\n",
    "\n",
    "We can calculate the denominator P(B) using the law of total probability:\n",
    "P(B) = P(B|A) * P(A) + P(B|not A) * P(not A)\n",
    "\n",
    "where P(not A) = 1 - P(A) = 1 - 0.00001 = 0.99999.\n",
    "\n",
    "So we have:\n",
    "P(B) = 0.99 * 0.00001 + 0.02 * 0.99999 = 0.02098\n",
    "\n",
    "Now we can substitute all the values into the formula to get:\n",
    "P(A|B) = 0.99 * 0.00001 / 0.02098 = 0.000471\n",
    "\n",
    "So the probability of a person having the disease given that they test positive is about 0.0471%, or approximately 1 in 2113."
   ]
  },
  {
   "cell_type": "markdown",
   "id": "6ef2fa2b-929d-4e6a-a9fc-d5c5f5364b37",
   "metadata": {},
   "source": [
    "# Q7"
   ]
  },
  {
   "cell_type": "markdown",
   "id": "4ee92cee-8fd7-487f-9888-b0aa8dce4cde",
   "metadata": {},
   "source": [
    "CI = X̄ ± z*(σ/√n)\n",
    "\n",
    "where X̄ is the sample mean, σ is the population standard deviation, n is the sample size, and z is the critical value for the desired confidence level.\n",
    "\n",
    "For a 95% confidence level, the z-value is 1.96. Substituting the values, we get:\n",
    "\n",
    "CI = 50 ± 1.96*(5/√n)\n",
    "\n",
    "Since we don't have any information about the sample size, let's assume it to be 100. Substituting this value, we get:\n",
    "\n",
    "CI = 50 ± 1.96*(5/√100) = 50 ± 0.98\n",
    "\n",
    "So, the 95% confidence interval for the given data is (49.02, 50.98)."
   ]
  },
  {
   "cell_type": "markdown",
   "id": "0cbc7d95-a69a-4585-b48a-b3d1877d92de",
   "metadata": {},
   "source": [
    "# Q8"
   ]
  },
  {
   "cell_type": "markdown",
   "id": "29de7f96-38b0-4a77-bf5d-1b4567226108",
   "metadata": {},
   "source": [
    "The margin of error is a measure of the precision or accuracy of an estimate in a confidence interval. It represents the maximum amount by which the sample estimate can differ from the true population parameter. The larger the margin of error, the less precise the estimate is considered to be.\n",
    "\n",
    "Sample size has a significant effect on the margin of error. A larger sample size usually results in a smaller margin of error, as the sample estimate becomes more representative of the population. The relationship between sample size and margin of error is inverse; that is, as the sample size increases, the margin of error decreases.\n",
    "\n",
    "For example, suppose a political survey is conducted to estimate the proportion of voters who support a particular candidate. A sample of 200 voters is taken, and the estimated proportion of supporters is 0.55, with a margin of error of 0.05. If the sample size were increased to 500, the margin of error would decrease to 0.03, resulting in a more precise estimate of the true proportion of supporters in the population."
   ]
  },
  {
   "cell_type": "markdown",
   "id": "44718f1c-8bea-4248-b25d-cc8e1e120a15",
   "metadata": {},
   "source": [
    "# Q9"
   ]
  },
  {
   "cell_type": "markdown",
   "id": "baf06a48-50e9-4e30-a695-b0156fa88f05",
   "metadata": {},
   "source": [
    "To calculate the z-score, we use the formula:\n",
    "\n",
    "z = (x - mu) / sigma\n",
    "\n",
    "where:\n",
    "x = the data point value\n",
    "mu = the population mean\n",
    "sigma = the population standard deviation\n",
    "\n",
    "Substituting the given values, we get:\n",
    "\n",
    "z = (75 - 70) / 5\n",
    "z = 1"
   ]
  },
  {
   "cell_type": "markdown",
   "id": "e44135f9-fe96-45e9-964e-24e5af31e2c1",
   "metadata": {},
   "source": [
    "# Q10"
   ]
  },
  {
   "cell_type": "markdown",
   "id": "1e5ede69-4e80-407a-b750-7541f2d71dda",
   "metadata": {},
   "source": [
    "To conduct a hypothesis test, we need to state the null and alternative hypothesis:\n",
    "\n",
    "Null Hypothesis (H0): The new weight loss drug is not significantly effective. µ = 0.\n",
    "Alternative Hypothesis (HA): The new weight loss drug is significantly effective. µ ≠ 0.\n",
    "We can use a t-test because the population standard deviation is unknown. Since we do not have any information about the population standard deviation, we will use the sample standard deviation to calculate the t-statistic.\n",
    "\n",
    "The formula for t-statistic is:\n",
    "\n",
    "t = (x̄ - µ) / (s / √n)\n",
    "\n",
    "where:\n",
    "x̄ = sample mean\n",
    "µ = population mean (null hypothesis value)\n",
    "s = sample standard deviation\n",
    "n = sample size\n",
    "\n",
    "For a two-tailed test at a 95% confidence level with 49 degrees of freedom, the critical value of t can be found using a t-table or t-distribution calculator. We can find that the critical values are approximately ±2.009.\n",
    "\n",
    "Let's calculate the t-statistic:\n",
    "\n",
    "t = (6 - 0) / (2.5 / √50) = 15.58\n",
    "\n",
    "The calculated t-statistic is much greater than the critical values, which means that we can reject the null hypothesis and conclude that the new weight loss drug is significantly effective at a 95% confidence level.\n",
    "\n",
    "Therefore, we have sufficient evidence to suggest that the new weight loss drug is significantly effective in reducing weight."
   ]
  },
  {
   "cell_type": "markdown",
   "id": "ae7ee2c6-130e-4c3d-99ba-d859bf75cded",
   "metadata": {},
   "source": [
    "# Q11"
   ]
  },
  {
   "cell_type": "markdown",
   "id": "03784109-2e3d-4bee-9613-36175aeecb4c",
   "metadata": {},
   "source": [
    "To calculate the 95% confidence interval for the proportion of people satisfied with their job, we can use the following formula:\n",
    "\n",
    "CI = p ± z*(√(p(1-p)/n))\n",
    "\n",
    "Where:\n",
    "p = sample proportion = 0.65\n",
    "n = sample size = 500\n",
    "z = z-score for 95% confidence level = 1.96 (from the standard normal distribution table)\n",
    "\n",
    "Substituting the values, we get:\n",
    "\n",
    "CI = 0.65 ± 1.96*(√(0.65*(1-0.65)/500))\n",
    "CI = 0.65 ± 0.041\n",
    "CI = (0.609, 0.691)\n",
    "\n",
    "Interpretation:\n",
    "We can be 95% confident that the true proportion of people who are satisfied with their job lies between 60.9% and 69.1%."
   ]
  },
  {
   "cell_type": "markdown",
   "id": "5b6703dd-4579-4946-af30-6ade8630deea",
   "metadata": {},
   "source": [
    "# Q12"
   ]
  },
  {
   "cell_type": "markdown",
   "id": "515217fb-93cd-4490-835a-a87cb3044b03",
   "metadata": {},
   "source": [
    "To test if there is a significant difference between the two teaching methods, we can perform a two-sample t-test for independent samples. The null hypothesis is that there is no difference between the means of the two groups, while the alternative hypothesis is that there is a significant difference.\n",
    "\n",
    "Let μ1 be the population mean of sample A, μ2 be the population mean of sample B, σ1 be the population standard deviation of sample A, σ2 be the population standard deviation of sample B, n1 be the sample size of sample A, and n2 be the sample size of sample B.\n",
    "\n",
    "The test statistic for the two-sample t-test is calculated as:\n",
    "\n",
    "t = (x1 - x2) / sqrt(s1^2/n1 + s2^2/n2)\n",
    "\n",
    "where x1 and x2 are the sample means, s1 and s2 are the sample standard deviations, and n1 and n2 are the sample sizes.\n",
    "\n",
    "Using the given values:\n",
    "\n",
    "x1 = 85\n",
    "x2 = 82\n",
    "s1 = 6\n",
    "s2 = 5\n",
    "n1 = n2 = 50\n",
    "The test statistic is:\n",
    "\n",
    "t = (85 - 82) / sqrt((6^2/50) + (5^2/50)) = 3 / 1.27 = 2.36\n",
    "\n",
    "The degrees of freedom for the t-distribution are (n1 + n2 - 2) = 98 at a significance level of 0.01, with a two-tailed test.\n",
    "\n",
    "Using a t-table or a calculator, the critical value for a two-tailed t-test with 98 degrees of freedom and a significance level of 0.01 is approximately ±2.64.\n",
    "\n",
    "Since the absolute value of the test statistic (2.36) is less than the critical value (2.64), we fail to reject the null hypothesis. This means that there is not enough evidence to conclude that there is a significant difference between the means of the two teaching methods at a significance level of 0.01."
   ]
  },
  {
   "cell_type": "markdown",
   "id": "92598ca5-769c-4eaa-b7aa-bf100c0e7cb1",
   "metadata": {
    "tags": []
   },
   "source": [
    "# Q13"
   ]
  },
  {
   "cell_type": "markdown",
   "id": "cdcd0e14-c37f-4b4b-95d2-eeaff0ae723a",
   "metadata": {},
   "source": [
    "We can calculate the confidence interval using the formula:\n",
    "\n",
    "CI = x̄ ± z* (σ/√n)\n",
    "\n",
    "where\n",
    "x̄ = sample mean = 65\n",
    "σ = population standard deviation = 8\n",
    "n = sample size = 50\n",
    "z* = z-score corresponding to the 90% confidence level = 1.645 (from standard normal distribution table)\n",
    "\n",
    "Substituting the values in the formula, we get:\n",
    "\n",
    "CI = 65 ± 1.645 * (8/√50)\n",
    "CI = 65 ± 2.34\n",
    "\n",
    "The 90% confidence interval for the true population mean is (62.66, 67.34).\n",
    "\n",
    "Interpretation: We can be 90% confident that the true population mean falls within the range of (62.66, 67.34) based on the sample mean of 65."
   ]
  },
  {
   "cell_type": "markdown",
   "id": "4b405538-8a87-4361-a71e-122546d16779",
   "metadata": {},
   "source": [
    "# Q14"
   ]
  },
  {
   "cell_type": "markdown",
   "id": "860c386e-2c85-4b5d-b97a-6c6d15c491df",
   "metadata": {},
   "source": [
    "We can begin by setting up the null and alternative hypotheses:\n",
    "\n",
    "Null hypothesis: The mean reaction time with caffeine is equal to the mean reaction time without caffeine.\n",
    "Alternative hypothesis: The mean reaction time with caffeine is significantly different from the mean reaction time without caffeine.\n",
    "\n",
    "We will use a two-tailed t-test with a significance level of 0.1, since we want to test for a significant difference in either direction.\n",
    "\n",
    "First, we need to calculate the t-value using the formula:\n",
    "\n",
    "t = (x̄ - μ) / (s / √n)\n",
    "\n",
    "where x̄ is the sample mean, μ is the population mean (assumed to be 0.25 seconds), s is the sample standard deviation, and n is the sample size.\n",
    "\n",
    "t = (0.25 - 0) / (0.05 / √30) = 6.7082\n",
    "\n",
    "Next, we need to find the critical t-value using a t-table or calculator with degrees of freedom (df) equal to n - 1 = 29 and a significance level of 0.1.\n",
    "\n",
    "The critical t-value for a two-tailed test with df = 29 and a significance level of 0.1 is ±1.6991.\n",
    "\n",
    "Since our calculated t-value (6.7082) is greater than the critical t-value (1.6991), we reject the null hypothesis and conclude that there is a significant difference in reaction time between the caffeine and non-caffeine groups.\n",
    "\n",
    "Therefore, we can say that the caffeine has a significant effect on reaction time at a 90% confidence level."
   ]
  },
  {
   "cell_type": "code",
   "execution_count": null,
   "id": "0023fd75-5cfd-458f-81ed-04eb026965d6",
   "metadata": {},
   "outputs": [],
   "source": []
  }
 ],
 "metadata": {
  "kernelspec": {
   "display_name": "Python 3 (ipykernel)",
   "language": "python",
   "name": "python3"
  },
  "language_info": {
   "codemirror_mode": {
    "name": "ipython",
    "version": 3
   },
   "file_extension": ".py",
   "mimetype": "text/x-python",
   "name": "python",
   "nbconvert_exporter": "python",
   "pygments_lexer": "ipython3",
   "version": "3.11.2"
  }
 },
 "nbformat": 4,
 "nbformat_minor": 5
}

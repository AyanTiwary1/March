{
 "cells": [
  {
   "cell_type": "markdown",
   "id": "eb7624af-9c01-4a0b-a621-713478b385b5",
   "metadata": {},
   "source": [
    "# Assignment"
   ]
  },
  {
   "cell_type": "markdown",
   "id": "218eeb41-bbbb-46b3-a598-d6eb81ca63dd",
   "metadata": {},
   "source": [
    "# Q1"
   ]
  },
  {
   "cell_type": "markdown",
   "id": "433716f4-d6de-4c28-be5f-ded57608ac5d",
   "metadata": {},
   "source": [
    "ANOVA (Analysis of Variance) is a statistical method used to compare the means of three or more groups. The assumptions required for using ANOVA are as follows:\n",
    "\n",
    "Independence: The observations in each group must be independent of each other.\n",
    "\n",
    "Normality: The distribution of the response variable in each group must be approximately normal.\n",
    "\n",
    "Homogeneity of variances: The variances of the response variable in each group must be approximately equal.\n",
    "\n",
    "Violations of these assumptions could impact the validity of the ANOVA results. For example:\n",
    "\n",
    "Violation of independence: If the observations in one group are not independent of the observations in another group, this could lead to the problem of pseudoreplication. For example, if data are collected from multiple sites, but some sites are more similar to each other than others, the assumption of independence may be violated.\n",
    "\n",
    "Violation of normality: If the distribution of the response variable is not approximately normal in each group, this could lead to inaccurate results. For example, if the data are heavily skewed or have outliers, the assumption of normality may be violated.\n",
    "\n",
    "Violation of homogeneity of variances: If the variances of the response variable are not approximately equal in each group, this could lead to inaccurate results. For example, if the data in one group have much larger variances than the data in another group, this could lead to a false detection of a significant difference.\n",
    "\n",
    "In general, violations of these assumptions could lead to either Type I errors (false positive) or Type II errors (false negative). Therefore, it is important to check the assumptions before performing ANOVA and consider alternative methods if the assumptions are not met."
   ]
  },
  {
   "cell_type": "markdown",
   "id": "14539ebc-56e1-49e0-aeb2-9258082aa289",
   "metadata": {},
   "source": [
    "# Q2"
   ]
  },
  {
   "cell_type": "markdown",
   "id": "9f2ebcfb-b0aa-46a7-be8c-1187ff5205ed",
   "metadata": {},
   "source": [
    "The three types of ANOVA are:\n",
    "\n",
    "One-way ANOVA: This type of ANOVA is used to analyze the differences between the means of three or more independent groups (or levels) on a single dependent variable. It is called \"one-way\" because there is only one independent variable being studied.\n",
    "\n",
    "Two-way ANOVA: This type of ANOVA is used to analyze the differences between the means of two or more independent groups (or levels) on a single dependent variable, but with the added feature of considering the effects of two or more independent variables (or factors) simultaneously. It is called \"two-way\" because there are two independent variables being studied.\n",
    "\n",
    "Repeated-measures ANOVA: This type of ANOVA is used to analyze the differences between the means of three or more related groups (or levels) on a single dependent variable, where each participant is measured on the dependent variable under all conditions (or levels) of the independent variable."
   ]
  },
  {
   "cell_type": "markdown",
   "id": "6da3205d-6b41-41b1-9af4-7eec99f6b113",
   "metadata": {},
   "source": [
    "# Q3"
   ]
  },
  {
   "cell_type": "markdown",
   "id": "d0b01e26-948e-4e99-b596-79d9af0c9b17",
   "metadata": {},
   "source": [
    "The partitioning of variance in ANOVA refers to the process of dividing the total variability in a dataset into different sources of variation, which can then be used to evaluate the significance of different factors or treatments. This partitioning is important because it allows researchers to determine the extent to which different factors or treatments are contributing to the observed variability in the data.\n",
    "\n",
    "In ANOVA, the total variability in the data is partitioned into two components: the between-group variability and the within-group variability. The between-group variability represents the variation in the data that can be explained by the differences between the group means, while the within-group variability represents the variation that cannot be explained by these differences.\n",
    "\n",
    "The partitioning of variance is important because it allows researchers to calculate the F-statistic, which is used to test the null hypothesis that there is no difference between the group means. By comparing the F-statistic to a critical value based on the degrees of freedom and the chosen significance level, researchers can determine whether the observed differences between the group means are statistically significant."
   ]
  },
  {
   "cell_type": "markdown",
   "id": "49c42b4f-4007-41a5-b7ee-91a6c1773d9d",
   "metadata": {},
   "source": [
    "# Q4"
   ]
  },
  {
   "cell_type": "code",
   "execution_count": null,
   "id": "106b971c-7092-4b51-b248-901f63e50b1c",
   "metadata": {
    "tags": []
   },
   "outputs": [],
   "source": [
    "import pandas as pd\n",
    "import statsmodels.api as sm\n",
    "from statsmodels.formula.api import ols\n",
    "\n",
    "# read in data\n",
    "data = pd.read_csv('data.csv')\n",
    "\n",
    "# set up one-way ANOVA model\n",
    "model = ols('y ~ group', data=data).fit()\n",
    "\n",
    "# calculate SST, SSE, and SSR\n",
    "SST = sm.stats.anova_lm(model, typ=1)['sum_sq'][0]\n",
    "SSE = sm.stats.anova_lm(model, typ=1)['sum_sq'][1]\n",
    "SSR = sm.stats.anova_lm(model, typ=1)['sum_sq'][2]\n"
   ]
  },
  {
   "cell_type": "markdown",
   "id": "7e6ba7a9-a200-4f53-b3b3-9254d253f1bf",
   "metadata": {},
   "source": [
    "# Q5"
   ]
  },
  {
   "cell_type": "code",
   "execution_count": null,
   "id": "59bc2f9e-e328-40f5-a23b-411ab1adcb7f",
   "metadata": {},
   "outputs": [],
   "source": [
    "import pandas as pd\n",
    "import statsmodels.api as sm\n",
    "from statsmodels.formula.api import ols\n",
    "\n",
    "# read in data\n",
    "data = pd.read_csv('data.csv')\n",
    "\n",
    "# create model formula\n",
    "formula = 'y ~ C(factor_a) + C(factor_b) + C(factor_a):C(factor_b)'\n",
    "\n",
    "# fit ANOVA model\n",
    "model = ols(formula, data).fit()\n",
    "\n",
    "# print main effects\n",
    "print(model.params[1:3])\n",
    "\n",
    "# print interaction effect\n",
    "print(model.params[3])\n"
   ]
  },
  {
   "cell_type": "markdown",
   "id": "ffb13f69-9619-4cca-b1f4-0a4786957437",
   "metadata": {},
   "source": [
    "# Q6"
   ]
  },
  {
   "cell_type": "markdown",
   "id": "cb55a1a9-e999-4a0e-9765-85b8058f1429",
   "metadata": {},
   "source": [
    "An F-statistic of 5.23 with a p-value of 0.02 suggests that there is a statistically significant difference between the groups in the population. Specifically, it indicates that the variability between the group means is larger than the variability within the groups. Therefore, we can reject the null hypothesis that all group means are equal.\n",
    "\n",
    "In terms of interpretation, this means that there is evidence to suggest that there are real differences between the means of the groups being compared. However, it does not provide information on which specific group means are different from each other. Further analysis, such as post-hoc tests or confidence intervals, would be needed to identify which group means are significantly different"
   ]
  },
  {
   "cell_type": "markdown",
   "id": "2349a16c-06a1-4883-b638-8105cb5fdb25",
   "metadata": {},
   "source": [
    "# Q7"
   ]
  },
  {
   "cell_type": "markdown",
   "id": "739e2fe2-4ef1-43fa-aa6b-de1c48a52d3f",
   "metadata": {},
   "source": [
    "In a repeated measures ANOVA, missing data can occur due to various reasons such as participant dropout, equipment failure, or other unforeseen circumstances. It is important to handle missing data appropriately as it can affect the validity and reliability of the results.\n",
    "\n",
    "There are different methods to handle missing data in a repeated measures ANOVA, including:\n",
    "\n",
    "Pairwise deletion: This method involves excluding any case that has missing data on any of the variables involved in the analysis. This approach is simple and straightforward, but it can lead to biased results and reduced power if the missing data is not completely at random.\n",
    "\n",
    "Listwise deletion: This method involves excluding any case that has missing data on any of the variables involved in the analysis. It is more conservative than pairwise deletion, but it can also lead to biased results and reduced power if the missing data is not completely at random.\n",
    "\n",
    "Imputation: This method involves estimating missing data using a statistical model or algorithm. Imputation can help to reduce bias and increase power compared to deletion methods, but the validity of the results depends on the accuracy of the imputation model and assumptions made about the missing data.\n",
    "\n",
    "Mixed-effects models: This method involves modeling the data using a hierarchical model that accounts for both within-subject and between-subject variability. This approach can handle missing data by estimating the missing values using the observed data and can provide unbiased estimates of the treatment effects even when data is missing at random."
   ]
  },
  {
   "cell_type": "markdown",
   "id": "89846994-4b2e-4927-b68c-70a26eff9d72",
   "metadata": {},
   "source": [
    "# Q8"
   ]
  },
  {
   "cell_type": "markdown",
   "id": "6d28953b-6a16-46f2-a98a-76945fc2dd99",
   "metadata": {},
   "source": [
    "After conducting an ANOVA, post-hoc tests can be used to determine which specific group means differ significantly from each other. Some common post-hoc tests include Tukey's HSD, Bonferroni correction, Scheffe's method, and Dunnett's test.\n",
    "\n",
    "Tukey's HSD (honestly significant difference) test is commonly used when the sample sizes are equal and the variances are approximately equal across all groups. The test controls the familywise error rate, which is the probability of making at least one Type I error across all pairwise comparisons.\n",
    "\n",
    "Bonferroni correction is a more conservative approach that adjusts the alpha level (significance level) for each pairwise comparison. It is often used when there are a large number of pairwise comparisons to be made.\n",
    "\n",
    "Scheffe's method is a more conservative approach that controls the familywise error rate while also allowing for unequal sample sizes and variances across groups.\n",
    "\n",
    "Dunnett's test is used when comparing several groups to a control group. It controls the overall alpha level, rather than the familywise error rate.\n",
    "\n",
    "A situation where a post-hoc test might be necessary is when an ANOVA shows that there is a significant difference between groups, but it is unclear which specific groups differ significantly from each other. For example, in a study comparing the effects of three different treatments on blood pressure, an ANOVA might show a significant difference between groups, but a post-hoc test would be needed to determine which specific treatments have different effects on blood pressure."
   ]
  },
  {
   "cell_type": "markdown",
   "id": "9b1d8228-3b97-46db-aee2-a1a1ae4c9dba",
   "metadata": {},
   "source": [
    "# Q9"
   ]
  },
  {
   "cell_type": "code",
   "execution_count": 2,
   "id": "0b281bba-b40e-4745-9430-2c40022ed8e8",
   "metadata": {
    "tags": []
   },
   "outputs": [
    {
     "name": "stdout",
     "output_type": "stream",
     "text": [
      "F-statistic: 7.883247731412348\n",
      "p-value: 0.0005609089293995041\n"
     ]
    }
   ],
   "source": [
    "import scipy.stats as stats\n",
    "\n",
    "# Define the data\n",
    "diet_a = [5, 6, 7, 4, 5, 6, 7, 8, 9, 6, 7, 5, 6, 7, 8, 9, 10, 6, 7, 8, 9, 7, 6, 5, 4, 6, 7, 8, 9, 7, 6, 5, 4, 6, 7, 8, 9, 7, 6, 5, 4, 6, 7, 8, 9, 7, 6, 5, 4]\n",
    "diet_b = [4, 5, 6, 7, 8, 5, 4, 5, 6, 7, 4, 5, 6, 7, 8, 5, 4, 5, 6, 7, 4, 5, 6, 7, 8, 5, 4, 5, 6, 7, 4, 5, 6, 7, 8, 5, 4, 5, 6, 7, 4, 5, 6, 7, 8, 5, 4, 5, 6, 7]\n",
    "diet_c = [3, 4, 5, 6, 7, 8, 4, 5, 6, 7, 3, 4, 5, 6, 7, 8, 4, 5, 6, 7, 3, 4, 5, 6, 7, 8, 4, 5, 6, 7, 3, 4, 5, 6, 7, 8, 4, 5, 6, 7, 3, 4, 5, 6, 7, 8, 4, 5, 6, 7]\n",
    "\n",
    "# Conduct the one-way ANOVA\n",
    "f_stat, p_val = stats.f_oneway(diet_a, diet_b, diet_c)\n",
    "\n",
    "# Print the results\n",
    "print(\"F-statistic:\", f_stat)\n",
    "print(\"p-value:\", p_val)\n"
   ]
  },
  {
   "cell_type": "markdown",
   "id": "667438c2-f5ba-4063-bcae-ca18b94bbc1a",
   "metadata": {},
   "source": [
    "# Q10"
   ]
  },
  {
   "cell_type": "code",
   "execution_count": 5,
   "id": "5a486d30-3221-4ce0-8f52-1255141ed8e6",
   "metadata": {
    "tags": []
   },
   "outputs": [
    {
     "name": "stdout",
     "output_type": "stream",
     "text": [
      "                             sum_sq    df         F    PR(>F)\n",
      "C(Program)                 3.638022   2.0  0.547440  0.585482\n",
      "C(Experience)              7.185994   1.0  2.162658  0.154390\n",
      "C(Program):C(Experience)  21.516958   2.0  3.237814  0.056899\n",
      "Residual                  79.746240  24.0       NaN       NaN\n"
     ]
    }
   ],
   "source": [
    "import numpy as np\n",
    "import pandas as pd\n",
    "import statsmodels.api as sm\n",
    "from statsmodels.formula.api import ols\n",
    "\n",
    "# Create data\n",
    "n = 30\n",
    "programs = ['A', 'B', 'C']\n",
    "levels = ['novice', 'experienced']\n",
    "data = pd.DataFrame({'Program': np.random.choice(programs, n),\n",
    "                     'Experience': np.random.choice(levels, n),\n",
    "                     'Time': np.random.normal(loc=10, scale=2, size=n)})\n",
    "\n",
    "# Fit two-way ANOVA model\n",
    "model = ols('Time ~ C(Program) + C(Experience) + C(Program):C(Experience)', data=data).fit()\n",
    "anova_table = sm.stats.anova_lm(model, typ=2)\n",
    "\n",
    "# Print ANOVA table\n",
    "print(anova_table)\n"
   ]
  },
  {
   "cell_type": "markdown",
   "id": "fcc0605c-34a3-4d44-82da-ee57e908dad7",
   "metadata": {},
   "source": [
    "# Q11"
   ]
  },
  {
   "cell_type": "code",
   "execution_count": 3,
   "id": "fe394e7b-b1fd-4e2f-a2a1-bfca2ce35393",
   "metadata": {
    "tags": []
   },
   "outputs": [
    {
     "name": "stdout",
     "output_type": "stream",
     "text": [
      "t = 0.447, p = 0.660\n"
     ]
    }
   ],
   "source": [
    "import pandas as pd\n",
    "from scipy import stats\n",
    "\n",
    "# create a DataFrame with test scores and group assignments\n",
    "data = pd.DataFrame({\n",
    "    'score': [80, 85, 90, 75, 95, 85, 70, 80, 85, 90, 80, 75, 85, 90, 75, 95, 85, 70, 80, 85],\n",
    "    'group': ['control'] * 10 + ['experimental'] * 10\n",
    "})\n",
    "\n",
    "# separate the data into two groups\n",
    "control_scores = data[data['group'] == 'control']['score']\n",
    "experimental_scores = data[data['group'] == 'experimental']['score']\n",
    "\n",
    "# perform a two-sample t-test\n",
    "t, p = stats.ttest_ind(control_scores, experimental_scores)\n",
    "\n",
    "# print the results\n",
    "print(f\"t = {t:.3f}, p = {p:.3f}\")\n"
   ]
  },
  {
   "cell_type": "markdown",
   "id": "a6aeea43-f1f0-44a2-944d-087519051096",
   "metadata": {},
   "source": [
    "# Q12"
   ]
  },
  {
   "cell_type": "code",
   "execution_count": 7,
   "id": "e7a74187-270f-4385-8fbe-95f396166767",
   "metadata": {
    "tags": []
   },
   "outputs": [
    {
     "name": "stdout",
     "output_type": "stream",
     "text": [
      "               Anova\n",
      "===================================\n",
      "      F Value Num DF  Den DF Pr > F\n",
      "-----------------------------------\n",
      "store  0.0000 2.0000 58.0000 1.0000\n",
      "===================================\n",
      "\n",
      "Multiple Comparison of Means - Tukey HSD, FWER=0.05\n",
      "==================================================\n",
      "group1 group2 meandiff p-adj  lower  upper  reject\n",
      "--------------------------------------------------\n",
      "     A      B      0.0   1.0 -5.5383 5.5383  False\n",
      "     A      C      0.0   1.0 -5.5383 5.5383  False\n",
      "     B      C      0.0   1.0 -5.5383 5.5383  False\n",
      "--------------------------------------------------\n"
     ]
    }
   ],
   "source": [
    "import pandas as pd\n",
    "from statsmodels.stats.anova import AnovaRM\n",
    "from statsmodels.stats.multicomp import pairwise_tukeyhsd\n",
    "\n",
    "# create a DataFrame with sales data for three stores\n",
    "data = pd.DataFrame({\n",
    "    'store': ['A'] * 30 + ['B'] * 30 + ['C'] * 30,\n",
    "    'day': list(range(1, 31)) * 3,\n",
    "    'sales': [100, 120, 90, 110, 95, 105, 115, 105, 120, 95,\n",
    "              110, 100, 105, 115, 120, 105, 95, 110, 100, 120,\n",
    "              105, 95, 110, 100, 115, 105, 120, 95, 100, 110] * 3\n",
    "})\n",
    "\n",
    "# convert the DataFrame to wide format\n",
    "wide_data = data.pivot_table(values='sales', index='day', columns='store')\n",
    "\n",
    "# perform a repeated measures ANOVA\n",
    "aovrm = AnovaRM(data, 'sales', 'day', within=['store'])\n",
    "res = aovrm.fit()\n",
    "\n",
    "# print the results\n",
    "print(res.summary())\n",
    "\n",
    "# perform a post-hoc test\n",
    "tukey = pairwise_tukeyhsd(data['sales'], data['store'])\n",
    "print(tukey.summary())\n"
   ]
  },
  {
   "cell_type": "code",
   "execution_count": null,
   "id": "77250f22-730f-4295-a845-109d72ffa79c",
   "metadata": {},
   "outputs": [],
   "source": []
  }
 ],
 "metadata": {
  "kernelspec": {
   "display_name": "Python 3 (ipykernel)",
   "language": "python",
   "name": "python3"
  },
  "language_info": {
   "codemirror_mode": {
    "name": "ipython",
    "version": 3
   },
   "file_extension": ".py",
   "mimetype": "text/x-python",
   "name": "python",
   "nbconvert_exporter": "python",
   "pygments_lexer": "ipython3",
   "version": "3.11.2"
  }
 },
 "nbformat": 4,
 "nbformat_minor": 5
}

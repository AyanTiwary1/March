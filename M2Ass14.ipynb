{
 "cells": [
  {
   "cell_type": "markdown",
   "id": "39782603-b4a6-4e17-8b22-492b8b6d5bdc",
   "metadata": {},
   "source": [
    "# Assignment"
   ]
  },
  {
   "cell_type": "markdown",
   "id": "2dd1dffd-1008-42f2-821f-d39ae16708ac",
   "metadata": {},
   "source": [
    "# Q1"
   ]
  },
  {
   "cell_type": "code",
   "execution_count": 3,
   "id": "6adaa186-d720-49db-9323-e5829fa41895",
   "metadata": {
    "tags": []
   },
   "outputs": [],
   "source": [
    "import scipy.stats as stats\n",
    "import numpy as np\n",
    "\n",
    "def variance_ratio_test(data1, data2):\n",
    "    # Calculate the variances and degrees of freedom for each dataset\n",
    "    var1 = np.var(data1, ddof=1)\n",
    "    var2 = np.var(data2, ddof=1)\n",
    "    n1 = len(data1)\n",
    "    n2 = len(data2)\n",
    "\n",
    "    # Calculate the F-value and p-value for the variance ratio test\n",
    "    f_value = var1 / var2\n",
    "    p_value = stats.f.cdf(f_value, n1-1, n2-1)\n",
    "\n",
    "    return f_value, p_value\n"
   ]
  },
  {
   "cell_type": "markdown",
   "id": "bdcf5f68-4d99-4939-93d7-f0848a78c301",
   "metadata": {
    "tags": []
   },
   "source": [
    "Here, we're using the scipy.stats module to calculate the cumulative distribution function (CDF) of the F-distribution, which gives us the p-value for the test. The ddof=1 parameter in the np.var() function specifies that we want to use the sample variance (with n-1 degrees of freedom) rather than the population variance (with n degrees of freedom).\n"
   ]
  },
  {
   "cell_type": "markdown",
   "id": "bca3fd8c-74d5-462e-9b80-9a61131a639b",
   "metadata": {},
   "source": [
    "# Q2"
   ]
  },
  {
   "cell_type": "code",
   "execution_count": 5,
   "id": "1772ed68-f06f-487c-9f04-ce9a1571606c",
   "metadata": {
    "tags": []
   },
   "outputs": [],
   "source": [
    "from scipy.stats import f\n",
    "\n",
    "def critical_f_value(alpha, dfn, dfd):\n",
    "    \"\"\"\n",
    "    Calculates the critical F-value for a two-tailed test\n",
    "    with a given significance level, numerator degrees of freedom,\n",
    "    and denominator degrees of freedom.\n",
    "    \n",
    "    Parameters:\n",
    "    alpha (float): Significance level\n",
    "    dfn (int): Degrees of freedom for the numerator\n",
    "    dfd (int): Degrees of freedom for the denominator\n",
    "    \n",
    "    Returns:\n",
    "    float: Critical F-value\n",
    "    \"\"\"\n",
    "    return f.ppf(q=1-alpha/2, dfn=dfn, dfd=dfd)\n"
   ]
  },
  {
   "cell_type": "markdown",
   "id": "c37035fd-dc2e-480a-b2cc-2c89ca64298c",
   "metadata": {},
   "source": [
    "# Q3"
   ]
  },
  {
   "cell_type": "code",
   "execution_count": 6,
   "id": "03325487-43ab-4953-b627-88ce98cfc908",
   "metadata": {
    "tags": []
   },
   "outputs": [
    {
     "name": "stdout",
     "output_type": "stream",
     "text": [
      "F-value: 0.9629829394593775\n",
      "Degrees of freedom: 19 , 24\n",
      "p-value: 0.9451187849419085\n"
     ]
    }
   ],
   "source": [
    "import numpy as np\n",
    "from scipy.stats import f\n",
    "\n",
    "# Set the seed for reproducibility\n",
    "np.random.seed(123)\n",
    "\n",
    "# Generate two random samples from normal distributions with known variances\n",
    "n1 = 20\n",
    "n2 = 25\n",
    "mu1 = 10\n",
    "mu2 = 12\n",
    "var1 = 4\n",
    "var2 = 6\n",
    "\n",
    "sample1 = np.random.normal(mu1, np.sqrt(var1), n1)\n",
    "sample2 = np.random.normal(mu2, np.sqrt(var2), n2)\n",
    "\n",
    "# Calculate the F-value and p-value for an F-test of equality of variances\n",
    "F = np.var(sample1, ddof=1) / np.var(sample2, ddof=1)\n",
    "df1 = n1 - 1\n",
    "df2 = n2 - 1\n",
    "p = 2 * min(f.cdf(F, df1, df2), 1 - f.cdf(F, df1, df2))\n",
    "\n",
    "# Print the results\n",
    "print(\"F-value:\", F)\n",
    "print(\"Degrees of freedom:\", df1, \",\", df2)\n",
    "print(\"p-value:\", p)\n"
   ]
  },
  {
   "cell_type": "markdown",
   "id": "054fc72f-b933-4235-b583-09e892b21c8c",
   "metadata": {},
   "source": [
    "# Q4"
   ]
  },
  {
   "cell_type": "code",
   "execution_count": 13,
   "id": "2d5b49d4-ddcf-4c02-a5d9-a214a8fb18a5",
   "metadata": {
    "tags": []
   },
   "outputs": [
    {
     "name": "stdout",
     "output_type": "stream",
     "text": [
      "Fail to reject the null hypothesis. The variances are not significantly different.\n"
     ]
    }
   ],
   "source": [
    "import numpy as np\n",
    "from scipy.stats import f\n",
    "\n",
    "# Set the significance level\n",
    "alpha = 0.05\n",
    "\n",
    "# Set the sample sizes and population variances\n",
    "n1 = n2 = 12\n",
    "var1 = 10\n",
    "var2 = 15\n",
    "\n",
    "# Generate random samples from the populations\n",
    "np.random.seed(1)\n",
    "sample1 = np.random.normal(loc=0, scale=np.sqrt(var1), size=n1)\n",
    "sample2 = np.random.normal(loc=0, scale=np.sqrt(var2), size=n2)\n",
    "\n",
    "# Calculate the sample variances\n",
    "s1_squared = np.var(sample1, ddof=1)\n",
    "s2_squared = np.var(sample2, ddof=1)\n",
    "\n",
    "# Calculate the F-statistic\n",
    "F = s1_squared / s2_squared\n",
    "\n",
    "# Calculate the critical F-value\n",
    "df1 = n1 - 1\n",
    "df2 = n2 - 1\n",
    "critical_F = f.ppf(q=1 - alpha/2, dfn=df1, dfd=df2)\n",
    "\n",
    "# Compare the F-statistic to the critical F-value\n",
    "if F > critical_F or F < 1/critical_F:\n",
    "    print(f\"Reject the null hypothesis. The variances are significantly different.\")\n",
    "else:\n",
    "    print(f\"Fail to reject the null hypothesis. The variances are not significantly different.\")\n"
   ]
  },
  {
   "cell_type": "markdown",
   "id": "1a40d059-6a82-40b9-b025-20ffb3fdc0ad",
   "metadata": {},
   "source": [
    "# Q5"
   ]
  },
  {
   "cell_type": "markdown",
   "id": "1d02bb52-7891-4027-bc45-bda329725b38",
   "metadata": {},
   "source": [
    "To conduct the F-test, we need to set up the null and alternative hypotheses:\n",
    "\n",
    "Null hypothesis: The variance of the diameter of the product is equal to 0.005.\n",
    "Alternative hypothesis: The variance of the diameter of the product is greater than 0.005.\n",
    "\n",
    "We can use the F-test to test the null hypothesis by calculating the test statistic and comparing it to the critical value from the F-distribution with degrees of freedom (df1 = n - 1) and (df2 = 24), where n is the sample size.\n",
    "\n",
    "The test statistic is calculated as:\n",
    "\n",
    "F = sample variance / population variance\n",
    "\n",
    "In this case, the sample variance is 0.006, and the population variance is 0.005.\n",
    "\n",
    "F = 0.006 / 0.005\n",
    "F = 1.2\n",
    "\n",
    "Using a significance level of 0.01, the critical value for the F-distribution with df1 = 24 and df2 = 24 is 2.75 (calculated using a calculator or lookup table).\n",
    "\n",
    "Since our test statistic (F = 1.2) is less than the critical value (2.75), we fail to reject the null hypothesis. Therefore, we do not have sufficient evidence to say that the variance of the diameter of the product is greater than 0.005."
   ]
  },
  {
   "cell_type": "markdown",
   "id": "02ce6903-e7b5-413c-9ca4-df7c5b2934d9",
   "metadata": {},
   "source": [
    "# Q6"
   ]
  },
  {
   "cell_type": "code",
   "execution_count": 14,
   "id": "1a39454e-a8b8-4e44-ac61-8ef0c4c6047c",
   "metadata": {
    "tags": []
   },
   "outputs": [],
   "source": [
    "from math import gamma\n",
    "\n",
    "def f_distribution_mean_var(df1, df2):\n",
    "    mean = df2 / (df2 - 2)\n",
    "    var = (2 * (df2**2) * (df1 + df2 - 2)) / (df1 * (df2 - 2)**2 * (df2 - 4))\n",
    "    return mean, var\n"
   ]
  },
  {
   "cell_type": "markdown",
   "id": "31961cc0-7948-47af-b7ce-6b34592f1c6b",
   "metadata": {},
   "source": [
    "The gamma function from the math module is used to calculate the gamma function, which is used in the calculation of the variance. The function returns the mean and variance as a tuple.\n",
    "\n",
    "Note that this function assumes that dfn and dfd are both greater than or equal to 2, as an F-distribution only exists for degrees of freedom greater than or equal to 2 for both numerator and denominator."
   ]
  },
  {
   "cell_type": "markdown",
   "id": "1e3b21f5-097f-47b3-9e1d-334731651e07",
   "metadata": {},
   "source": [
    "# Q7"
   ]
  },
  {
   "cell_type": "markdown",
   "id": "f3c2780d-64f2-4990-81d7-7fc1962bd30d",
   "metadata": {},
   "source": [
    "To determine if the variances are significantly different, we will conduct an F-test at the 10% significance level.\n",
    "\n",
    "The null hypothesis is that the two population variances are equal:\n",
    "H0: σ12 = σ22\n",
    "\n",
    "The alternative hypothesis is that the two population variances are not equal:\n",
    "Ha: σ12 ≠ σ22\n",
    "\n",
    "The test statistic is calculated as:\n",
    "\n",
    "F = s12 / s22\n",
    "\n",
    "where s12 is the larger sample variance and s22 is the smaller sample variance.\n",
    "\n",
    "In this case, s12 = 25 and s22 = 20, so:\n",
    "\n",
    "F = 25 / 20 = 1.25\n",
    "\n",
    "The degrees of freedom for the numerator and denominator are 9 and 14, respectively.\n",
    "\n",
    "Using a statistical software or a table, we can find the critical F-value with 9 and 14 degrees of freedom for a 10% significance level, which is 2.31.\n",
    "\n",
    "Since our calculated F-value of 1.25 is less than the critical F-value of 2.31, we fail to reject the null hypothesis. Therefore, we do not have sufficient evidence to conclude that the population variances are significantly different at the 10% significance level."
   ]
  },
  {
   "cell_type": "markdown",
   "id": "66f80b86-c5a3-4da5-b517-3af453735232",
   "metadata": {},
   "source": [
    "# Q8"
   ]
  },
  {
   "cell_type": "code",
   "execution_count": 11,
   "id": "b1a4c200-9c42-4997-84cf-09df98d16bd2",
   "metadata": {
    "tags": []
   },
   "outputs": [
    {
     "name": "stdout",
     "output_type": "stream",
     "text": [
      "Sample variance of Restaurant A: 7.80952380952381\n",
      "Sample variance of Restaurant B: 5.366666666666667\n"
     ]
    }
   ],
   "source": [
    "import numpy as np\n",
    "\n",
    "restaurant_A = np.array([24, 25, 28, 23, 22, 20, 27])\n",
    "restaurant_B = np.array([31, 33, 35, 30, 32, 36])\n",
    "\n",
    "var_A = np.var(restaurant_A, ddof=1)\n",
    "var_B = np.var(restaurant_B, ddof=1)\n",
    "\n",
    "print(\"Sample variance of Restaurant A:\", var_A)\n",
    "print(\"Sample variance of Restaurant B:\", var_B)\n"
   ]
  },
  {
   "cell_type": "code",
   "execution_count": 12,
   "id": "9054c5a3-fdf9-4e42-822c-bc547f47349c",
   "metadata": {
    "tags": []
   },
   "outputs": [
    {
     "name": "stdout",
     "output_type": "stream",
     "text": [
      "F-statistic: 1.4551907719609583\n",
      "P-value: 0.3487407873968742\n"
     ]
    }
   ],
   "source": [
    "from scipy.stats import f\n",
    "\n",
    "f_statistic = var_A / var_B\n",
    "dfn = len(restaurant_A) - 1\n",
    "dfd = len(restaurant_B) - 1\n",
    "p_value = 1 - f.cdf(f_statistic, dfn, dfd)\n",
    "\n",
    "print(\"F-statistic:\", f_statistic)\n",
    "print(\"P-value:\", p_value)\n"
   ]
  },
  {
   "cell_type": "markdown",
   "id": "5f82f683-f5c5-4a9f-8743-bc306734bc7f",
   "metadata": {},
   "source": [
    "we fail to reject the null hypothesis and conclude that there is not enough evidence to suggest that the variances are significantly different at the 5% significance level. "
   ]
  },
  {
   "cell_type": "markdown",
   "id": "fee44f56-591d-4e8d-8e3c-60f2357e209b",
   "metadata": {},
   "source": [
    "# Q9"
   ]
  },
  {
   "cell_type": "code",
   "execution_count": 7,
   "id": "14b860d4-a425-4e5f-9551-a82fc29d6c8b",
   "metadata": {
    "tags": []
   },
   "outputs": [
    {
     "name": "stdout",
     "output_type": "stream",
     "text": [
      "Sample variance of Group A: 19.76666666666667\n",
      "Sample variance of Group B: 10.166666666666666\n"
     ]
    }
   ],
   "source": [
    "import numpy as np\n",
    "\n",
    "group_a = np.array([80, 85, 90, 92, 87, 83])\n",
    "group_b = np.array([75, 78, 82, 79, 81, 84])\n",
    "\n",
    "var_a = np.var(group_a, ddof=1)\n",
    "var_b = np.var(group_b, ddof=1)\n",
    "\n",
    "print(\"Sample variance of Group A:\", var_a)\n",
    "print(\"Sample variance of Group B:\", var_b)\n"
   ]
  },
  {
   "cell_type": "code",
   "execution_count": 8,
   "id": "e73bcf99-9f11-4fea-bfa1-e6425ff1fad0",
   "metadata": {
    "tags": []
   },
   "outputs": [
    {
     "name": "stdout",
     "output_type": "stream",
     "text": [
      "F-value: 1.9442622950819677\n"
     ]
    }
   ],
   "source": [
    "f_value = var_a / var_b\n",
    "print(\"F-value:\", f_value)\n"
   ]
  },
  {
   "cell_type": "code",
   "execution_count": 9,
   "id": "32504693-e93b-42a9-9409-4dbbcebb6cdb",
   "metadata": {
    "tags": []
   },
   "outputs": [
    {
     "name": "stdout",
     "output_type": "stream",
     "text": [
      "Critical F-value: 10.967020650907994\n"
     ]
    }
   ],
   "source": [
    "from scipy.stats import f\n",
    "\n",
    "alpha = 0.01\n",
    "dfn = 5\n",
    "dfd = 5\n",
    "f_crit = f.ppf(1 - alpha, dfn, dfd)\n",
    "\n",
    "print(\"Critical F-value:\", f_crit)\n"
   ]
  },
  {
   "cell_type": "code",
   "execution_count": 10,
   "id": "22cf98c2-1a3d-456c-995e-f83df7a6df0f",
   "metadata": {
    "tags": []
   },
   "outputs": [],
   "source": [
    "#  we fail to reject the null hypothesis and conclude that there is not enough evidence"
   ]
  },
  {
   "cell_type": "code",
   "execution_count": null,
   "id": "9070ffc7-6f20-475c-8363-f47375fe38cd",
   "metadata": {},
   "outputs": [],
   "source": []
  }
 ],
 "metadata": {
  "kernelspec": {
   "display_name": "Python 3 (ipykernel)",
   "language": "python",
   "name": "python3"
  },
  "language_info": {
   "codemirror_mode": {
    "name": "ipython",
    "version": 3
   },
   "file_extension": ".py",
   "mimetype": "text/x-python",
   "name": "python",
   "nbconvert_exporter": "python",
   "pygments_lexer": "ipython3",
   "version": "3.11.2"
  }
 },
 "nbformat": 4,
 "nbformat_minor": 5
}
